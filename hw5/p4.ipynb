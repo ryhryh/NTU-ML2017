{
 "cells": [
  {
   "cell_type": "code",
   "execution_count": 1,
   "metadata": {},
   "outputs": [
    {
     "name": "stderr",
     "output_type": "stream",
     "text": [
      "/data1/home/feynman52/.pyenv/versions/3.6.5/lib/python3.6/site-packages/ipykernel_launcher.py:10: ParserWarning: Falling back to the 'python' engine because the 'c' engine does not support regex separators (separators > 1 char and different from '\\s+' are interpreted as regex); you can avoid this warning by specifying engine='python'.\n",
      "  # Remove the CWD from sys.path while we load stuff.\n",
      "/data1/home/feynman52/.pyenv/versions/3.6.5/lib/python3.6/site-packages/ipykernel_launcher.py:11: ParserWarning: Falling back to the 'python' engine because the 'c' engine does not support regex separators (separators > 1 char and different from '\\s+' are interpreted as regex); you can avoid this warning by specifying engine='python'.\n",
      "  # This is added back by InteractiveShellApp.init_path()\n"
     ]
    },
    {
     "name": "stdout",
     "output_type": "stream",
     "text": [
      "(1000209,)\n",
      "(1000209,)\n",
      "(6040,)\n",
      "(3706,)\n"
     ]
    }
   ],
   "source": [
    "import pandas as pd\n",
    "import os\n",
    "import numpy as np\n",
    "\n",
    "cur_dir = os.getcwd()\n",
    "path = os.path.join(cur_dir,'dataset','train.csv')\n",
    "path\n",
    "\n",
    "df_train = pd.read_csv( os.path.join(cur_dir,'dataset','train.csv'), sep=',' )\n",
    "df_movies = pd.read_csv( os.path.join(cur_dir,'dataset','movies.csv'), sep='::' )\n",
    "df_users = pd.read_csv( os.path.join(cur_dir,'dataset','users.csv'), sep='::' )\n",
    "df_test = pd.read_csv( os.path.join(cur_dir,'dataset','test.csv'), sep=',' )\n",
    "df_SampleSubmisson = pd.read_csv( os.path.join(cur_dir,'dataset','SampleSubmisson.csv'), sep=',' )\n",
    "\n",
    "mean = df_train.Rating.mean()\n",
    "std = df_train.Rating.std()\n",
    "df_train['Rating_normalized'] = (df_train['Rating'] - mean)/std\n",
    "\n",
    "all_user = np.concatenate([df_train.UserID,df_test.UserID],axis=0)\n",
    "all_movie = np.concatenate([df_train.MovieID,df_test.MovieID],axis=0)\n",
    "print(all_user.shape)\n",
    "print(all_movie.shape)\n",
    "all_user = np.unique(all_user)\n",
    "all_movie = np.unique(all_movie)\n",
    "print(all_user.shape)\n",
    "print(all_movie.shape)\n",
    "\n",
    "\n",
    "df_all_movie = pd.DataFrame({'movie_id':all_movie})\n",
    "df_all_movie['movie_index'] = df_all_movie.index\n",
    "\n",
    "df_all_user = pd.DataFrame({'user_id':all_user})\n",
    "df_all_user['user_index'] = df_all_user.index\n",
    "\n",
    "\n",
    "movie_id_to_index = df_all_movie.set_index('movie_id').to_dict()\n",
    "movie_id_to_index = movie_id_to_index['movie_index']\n",
    "user_id_to_index = df_all_user.set_index('user_id').to_dict()\n",
    "user_id_to_index = user_id_to_index['user_index']\n",
    "\n",
    "df_train['user_index'] =  df_train.apply(lambda row: user_id_to_index[row.UserID] ,axis=1)\n",
    "df_train['movie_index'] =  df_train.apply(lambda row: movie_id_to_index[row.MovieID] ,axis=1)\n",
    "\n",
    "df_train\n",
    "\n",
    "\n",
    "user_train = df_train.user_index\n",
    "movie_train = df_train.movie_index\n",
    "rating_train = df_train.Rating\n"
   ]
  },
  {
   "cell_type": "markdown",
   "metadata": {},
   "source": [
    "# DNN"
   ]
  },
  {
   "cell_type": "code",
   "execution_count": 2,
   "metadata": {},
   "outputs": [
    {
     "name": "stderr",
     "output_type": "stream",
     "text": [
      "Using TensorFlow backend.\n"
     ]
    }
   ],
   "source": [
    "from keras.layers import Input, Dense, Embedding, Flatten, dot, add, concatenate\n",
    "from keras.models import Model\n",
    "from keras.utils import get_custom_objects\n",
    "import keras.backend as K\n",
    "from sklearn.utils import shuffle\n",
    "import matplotlib.pylab as plt"
   ]
  },
  {
   "cell_type": "code",
   "execution_count": 3,
   "metadata": {},
   "outputs": [],
   "source": [
    "n_users= len(user_train)\n",
    "n_movies= len(movie_train)\n",
    "latent_dim = 20"
   ]
  },
  {
   "cell_type": "code",
   "execution_count": 6,
   "metadata": {
    "scrolled": true
   },
   "outputs": [
    {
     "name": "stdout",
     "output_type": "stream",
     "text": [
      "__________________________________________________________________________________________________\n",
      "Layer (type)                    Output Shape         Param #     Connected to                     \n",
      "==================================================================================================\n",
      "input_3 (InputLayer)            (None, 1)            0                                            \n",
      "__________________________________________________________________________________________________\n",
      "input_4 (InputLayer)            (None, 1)            0                                            \n",
      "__________________________________________________________________________________________________\n",
      "embedding_3 (Embedding)         (None, 1, 20)        17997460    input_3[0][0]                    \n",
      "__________________________________________________________________________________________________\n",
      "embedding_4 (Embedding)         (None, 1, 20)        17997460    input_4[0][0]                    \n",
      "__________________________________________________________________________________________________\n",
      "flatten_3 (Flatten)             (None, 20)           0           embedding_3[0][0]                \n",
      "__________________________________________________________________________________________________\n",
      "flatten_4 (Flatten)             (None, 20)           0           embedding_4[0][0]                \n",
      "__________________________________________________________________________________________________\n",
      "concatenate_2 (Concatenate)     (None, 40)           0           flatten_3[0][0]                  \n",
      "                                                                 flatten_4[0][0]                  \n",
      "__________________________________________________________________________________________________\n",
      "dense_4 (Dense)                 (None, 20)           820         concatenate_2[0][0]              \n",
      "__________________________________________________________________________________________________\n",
      "dense_5 (Dense)                 (None, 20)           420         dense_4[0][0]                    \n",
      "__________________________________________________________________________________________________\n",
      "dense_6 (Dense)                 (None, 1)            21          dense_5[0][0]                    \n",
      "==================================================================================================\n",
      "Total params: 35,996,181\n",
      "Trainable params: 35,996,181\n",
      "Non-trainable params: 0\n",
      "__________________________________________________________________________________________________\n"
     ]
    }
   ],
   "source": [
    "# build model---------------------------------------------------------\n",
    "user_input = Input(shape=(1,))\n",
    "movie_input = Input(shape=(1,))\n",
    "\n",
    "user_vecter = Embedding(n_users, latent_dim, embeddings_initializer=\"random_normal\")(user_input)\n",
    "user_vecter = Flatten()(user_vecter)\n",
    "movie_vecter = Embedding(n_movies, latent_dim, embeddings_initializer=\"random_normal\")(movie_input)\n",
    "movie_vecter = Flatten()(movie_vecter)\n",
    "\n",
    "rating_predict = concatenate([user_vecter,movie_vecter])\n",
    "\n",
    "rating_predict = Dense(20, activation='relu')(rating_predict)\n",
    "rating_predict = Dense(20, activation='relu')(rating_predict)\n",
    "rating_predict = Dense(1, activation='relu')(rating_predict)\n",
    "\n",
    "model_dnn = Model([user_input,movie_input],rating_predict)\n",
    "\n",
    "# compile model---------------------------------------------------------\n",
    "def rmse(y_true, y_pred):\n",
    "    y_pred = K.clip(y_pred, 1.0, 5.0)\n",
    "    return K.sqrt(K.mean(K.pow(y_true - y_pred, 2)))\n",
    "get_custom_objects().update({\"rmse\": rmse})\n",
    "\n",
    "model_dnn.compile(loss=\"mse\", optimizer=\"adam\", metrics=[rmse])\n",
    "\n",
    "model_dnn.summary()\n"
   ]
  },
  {
   "cell_type": "code",
   "execution_count": 7,
   "metadata": {
    "scrolled": true
   },
   "outputs": [
    {
     "name": "stdout",
     "output_type": "stream",
     "text": [
      "Train on 809885 samples, validate on 89988 samples\n",
      "Epoch 1/10\n",
      "809885/809885 [==============================] - 17s 22us/step - loss: 1.7823 - rmse: 1.1154 - val_loss: 0.8449 - val_rmse: 0.9189\n",
      "Epoch 2/10\n",
      "809885/809885 [==============================] - 17s 20us/step - loss: 0.8357 - rmse: 0.9137 - val_loss: 0.8356 - val_rmse: 0.9138\n",
      "Epoch 3/10\n",
      "809885/809885 [==============================] - 16s 20us/step - loss: 0.8253 - rmse: 0.9081 - val_loss: 0.8271 - val_rmse: 0.9091\n",
      "Epoch 4/10\n",
      "809885/809885 [==============================] - 16s 20us/step - loss: 0.8115 - rmse: 0.9005 - val_loss: 0.8117 - val_rmse: 0.9007\n",
      "Epoch 5/10\n",
      "809885/809885 [==============================] - 16s 20us/step - loss: 0.7900 - rmse: 0.8885 - val_loss: 0.7972 - val_rmse: 0.8926\n",
      "Epoch 6/10\n",
      "809885/809885 [==============================] - 16s 20us/step - loss: 0.7727 - rmse: 0.8787 - val_loss: 0.7886 - val_rmse: 0.8878\n",
      "Epoch 7/10\n",
      "809885/809885 [==============================] - 17s 20us/step - loss: 0.7585 - rmse: 0.8706 - val_loss: 0.7847 - val_rmse: 0.8855\n",
      "Epoch 8/10\n",
      "809885/809885 [==============================] - 17s 20us/step - loss: 0.7459 - rmse: 0.8633 - val_loss: 0.7808 - val_rmse: 0.8833\n",
      "Epoch 9/10\n",
      "809885/809885 [==============================] - 16s 20us/step - loss: 0.7350 - rmse: 0.8570 - val_loss: 0.7791 - val_rmse: 0.8824\n",
      "Epoch 10/10\n",
      "809885/809885 [==============================] - 16s 20us/step - loss: 0.7251 - rmse: 0.8511 - val_loss: 0.7793 - val_rmse: 0.8824\n"
     ]
    }
   ],
   "source": [
    "batch_size=1000\n",
    "epochs = 10\n",
    "\n",
    "user_train2, movie_train2, rating_train2 = shuffle(user_train, movie_train, rating_train)\n",
    "\n",
    "\n",
    "history_dnn = model_dnn.fit([user_train2, movie_train2],\n",
    "                    rating_train2,\n",
    "                    batch_size=batch_size,\n",
    "                    epochs=epochs,\n",
    "                    validation_split=0.1,\n",
    "                    shuffle=True)"
   ]
  },
  {
   "cell_type": "markdown",
   "metadata": {},
   "source": [
    "# dot"
   ]
  },
  {
   "cell_type": "code",
   "execution_count": 8,
   "metadata": {
    "scrolled": true
   },
   "outputs": [
    {
     "name": "stdout",
     "output_type": "stream",
     "text": [
      "__________________________________________________________________________________________________\n",
      "Layer (type)                    Output Shape         Param #     Connected to                     \n",
      "==================================================================================================\n",
      "input_5 (InputLayer)            (None, 1)            0                                            \n",
      "__________________________________________________________________________________________________\n",
      "input_6 (InputLayer)            (None, 1)            0                                            \n",
      "__________________________________________________________________________________________________\n",
      "embedding_5 (Embedding)         (None, 1, 20)        17997460    input_5[0][0]                    \n",
      "__________________________________________________________________________________________________\n",
      "embedding_6 (Embedding)         (None, 1, 20)        17997460    input_6[0][0]                    \n",
      "__________________________________________________________________________________________________\n",
      "flatten_5 (Flatten)             (None, 20)           0           embedding_5[0][0]                \n",
      "__________________________________________________________________________________________________\n",
      "flatten_6 (Flatten)             (None, 20)           0           embedding_6[0][0]                \n",
      "__________________________________________________________________________________________________\n",
      "dot_1 (Dot)                     (None, 1)            0           flatten_5[0][0]                  \n",
      "                                                                 flatten_6[0][0]                  \n",
      "==================================================================================================\n",
      "Total params: 35,994,920\n",
      "Trainable params: 35,994,920\n",
      "Non-trainable params: 0\n",
      "__________________________________________________________________________________________________\n"
     ]
    }
   ],
   "source": [
    "# build model---------------------------------------------------------\n",
    "user_input = Input(shape=(1,))\n",
    "movie_input = Input(shape=(1,))\n",
    "\n",
    "user_vecter = Embedding(n_users, latent_dim, embeddings_initializer=\"random_normal\")(user_input)\n",
    "user_vecter = Flatten()(user_vecter)\n",
    "movie_vecter = Embedding(n_movies, latent_dim, embeddings_initializer=\"random_normal\")(movie_input)\n",
    "movie_vecter = Flatten()(movie_vecter)\n",
    "rating_predict = dot([user_vecter,movie_vecter],axes=1)\n",
    "\n",
    "model_dot = Model([user_input,movie_input],rating_predict)\n",
    "\n",
    "# compile model---------------------------------------------------------\n",
    "def rmse(y_true, y_pred):\n",
    "    y_pred = K.clip(y_pred, 1.0, 5.0)\n",
    "    return K.sqrt(K.mean(K.pow(y_true - y_pred, 2)))\n",
    "get_custom_objects().update({\"rmse\": rmse})\n",
    "\n",
    "model_dot.compile(loss=\"mse\", optimizer=\"adam\", metrics=[rmse])\n",
    "\n",
    "model_dot.summary()\n"
   ]
  },
  {
   "cell_type": "code",
   "execution_count": 9,
   "metadata": {
    "scrolled": true
   },
   "outputs": [
    {
     "name": "stdout",
     "output_type": "stream",
     "text": [
      "Train on 809885 samples, validate on 89988 samples\n",
      "Epoch 1/10\n",
      "809885/809885 [==============================] - 16s 20us/step - loss: 11.0686 - rmse: 2.6477 - val_loss: 3.1489 - val_rmse: 1.7485\n",
      "Epoch 2/10\n",
      "809885/809885 [==============================] - 16s 20us/step - loss: 1.5730 - rmse: 1.2305 - val_loss: 1.0461 - val_rmse: 1.0195\n",
      "Epoch 3/10\n",
      "809885/809885 [==============================] - 16s 20us/step - loss: 0.9364 - rmse: 0.9655 - val_loss: 0.8853 - val_rmse: 0.9391\n",
      "Epoch 4/10\n",
      "809885/809885 [==============================] - 16s 20us/step - loss: 0.8573 - rmse: 0.9247 - val_loss: 0.8508 - val_rmse: 0.9210\n",
      "Epoch 5/10\n",
      "809885/809885 [==============================] - 16s 20us/step - loss: 0.8364 - rmse: 0.9136 - val_loss: 0.8388 - val_rmse: 0.9146\n",
      "Epoch 6/10\n",
      "809885/809885 [==============================] - 16s 20us/step - loss: 0.8263 - rmse: 0.9082 - val_loss: 0.8325 - val_rmse: 0.9112\n",
      "Epoch 7/10\n",
      "809885/809885 [==============================] - 16s 20us/step - loss: 0.8173 - rmse: 0.9033 - val_loss: 0.8250 - val_rmse: 0.9072\n",
      "Epoch 8/10\n",
      "809885/809885 [==============================] - 16s 20us/step - loss: 0.8071 - rmse: 0.8977 - val_loss: 0.8164 - val_rmse: 0.9024\n",
      "Epoch 9/10\n",
      "809885/809885 [==============================] - 16s 20us/step - loss: 0.7949 - rmse: 0.8909 - val_loss: 0.8083 - val_rmse: 0.8980\n",
      "Epoch 10/10\n",
      "809885/809885 [==============================] - 16s 20us/step - loss: 0.7818 - rmse: 0.8836 - val_loss: 0.7994 - val_rmse: 0.8930\n"
     ]
    }
   ],
   "source": [
    "batch_size=1000\n",
    "epochs = 10\n",
    "user_train2, movie_train2, rating_train2 = shuffle(user_train, movie_train, rating_train)\n",
    "\n",
    "history_dot = model_dot.fit([user_train2, movie_train2],\n",
    "                    rating_train2,\n",
    "                    batch_size=batch_size,\n",
    "                    epochs=epochs,\n",
    "                    validation_split=0.1,\n",
    "                    shuffle=True)"
   ]
  },
  {
   "cell_type": "markdown",
   "metadata": {},
   "source": [
    "# plot"
   ]
  },
  {
   "cell_type": "code",
   "execution_count": 13,
   "metadata": {},
   "outputs": [
    {
     "data": {
      "image/png": "[encoded data removed]",
      "text/plain": [
       "<matplotlib.figure.Figure at 0x7f00d85004e0>"
      ]
     },
     "metadata": {},
     "output_type": "display_data"
    }
   ],
   "source": [
    "\n",
    "\n",
    "# plot\n",
    "plt.plot(history_dnn.history['rmse'],label='dnn rmse')\n",
    "plt.plot(history_dot.history['rmse'],label='dot rmse')\n",
    "plt.title('model loss')\n",
    "plt.ylabel('rmse')\n",
    "plt.xlabel('epoch')\n",
    "plt.legend()\n",
    "plt.show()\n"
   ]
  },
  {
   "cell_type": "code",
   "execution_count": 12,
   "metadata": {},
   "outputs": [
    {
     "data": {
      "image/png": "[encoded data removed]",
      "text/plain": [
       "<matplotlib.figure.Figure at 0x7f00d8588ac8>"
      ]
     },
     "metadata": {},
     "output_type": "display_data"
    }
   ],
   "source": [
    "\n",
    "\n",
    "# plot\n",
    "plt.plot(history_dnn.history['val_rmse'],label='dnn val_rmse')\n",
    "plt.plot(history_dot.history['val_rmse'],label='dot val_rmse')\n",
    "plt.title('model loss')\n",
    "plt.ylabel('rmse')\n",
    "plt.xlabel('epoch')\n",
    "plt.legend()\n",
    "plt.show()\n"
   ]
  },
  {
   "cell_type": "code",
   "execution_count": null,
   "metadata": {},
   "outputs": [],
   "source": []
  },
  {
   "cell_type": "code",
   "execution_count": null,
   "metadata": {},
   "outputs": [],
   "source": []
  },
  {
   "cell_type": "code",
   "execution_count": null,
   "metadata": {},
   "outputs": [],
   "source": []
  },
  {
   "cell_type": "code",
   "execution_count": null,
   "metadata": {},
   "outputs": [],
   "source": []
  },
  {
   "cell_type": "code",
   "execution_count": null,
   "metadata": {},
   "outputs": [],
   "source": []
  },
  {
   "cell_type": "code",
   "execution_count": null,
   "metadata": {},
   "outputs": [],
   "source": []
  }
 ],
 "metadata": {
  "kernelspec": {
   "display_name": "Python 3",
   "language": "python",
   "name": "python3"
  }
 },
 "nbformat": 4,
 "nbformat_minor": 2
}
