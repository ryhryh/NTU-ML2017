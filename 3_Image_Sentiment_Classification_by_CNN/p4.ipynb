{
 "cells": [
  {
   "cell_type": "markdown",
   "metadata": {},
   "source": [
    "https://raghakot.github.io/keras-vis/visualizations/saliency/"
   ]
  },
  {
   "cell_type": "code",
   "execution_count": null,
   "metadata": {},
   "outputs": [
    {
     "name": "stderr",
     "output_type": "stream",
     "text": [
      "Using TensorFlow backend.\n"
     ]
    }
   ],
   "source": [
    "import numpy as np\n",
    "import keras.backend as K\n",
    "from keras.models import load_model\n",
    "import os\n",
    "import pandas as pd\n",
    "import matplotlib.pyplot as plt\n"
   ]
  },
  {
   "cell_type": "code",
   "execution_count": null,
   "metadata": {
    "scrolled": true
   },
   "outputs": [],
   "source": [
    "model = load_model('my_model.h5')\n",
    "model.summary()"
   ]
  },
  {
   "cell_type": "code",
   "execution_count": null,
   "metadata": {},
   "outputs": [],
   "source": [
    "x_train = os.path.join(os.getcwd(),'data','x_train.npy')\n",
    "x_train = np.load(x_train)"
   ]
  },
  {
   "cell_type": "code",
   "execution_count": null,
   "metadata": {},
   "outputs": [],
   "source": [
    "def normalize(x):\n",
    "    # utility function to normalize a tensor by its L2 norm\n",
    "    # [3,4] after normalize => [3/5,4/5], [3/12.5^2, 4/12.5^2]\n",
    "\n",
    "    # K.epsilon()) = 10^-7, prevent from dividing by zero\n",
    "    \n",
    "    return x / ( K.sqrt(K.mean(K.square(x))) + K.epsilon() )\n"
   ]
  },
  {
   "cell_type": "code",
   "execution_count": null,
   "metadata": {
    "scrolled": true
   },
   "outputs": [],
   "source": [
    "\n",
    "index_image = 22\n",
    "input_img_data = x_train[index_image].reshape(1,48,48,1)\n",
    "predict_vector = model.predict(input_img_data)\n",
    "index_category = np.argmax(predict_vector)\n",
    "\n",
    "input_img = model.input\n",
    "\n",
    "layer_output = model.layers[-1].output\n",
    "# loss = K.mean(layer_output[:,index_category])\n",
    "loss = layer_output[:,index_category]\n",
    "\n",
    "grads = K.gradients(loss, [input_img])[0]\n",
    "grads = normalize(grads)\n",
    "\n",
    "fn = K.function([input_img], [loss,grads,layer_output])\n",
    "\n",
    "\n",
    "loss_value, grads_value, layer_output = fn([input_img_data])\n",
    "\n",
    "print('index_category',index_category)\n",
    "print('loss_value',loss_value)\n",
    "print('grads_value',grads_value)\n",
    "print('layer_output',layer_output)\n",
    "\n",
    "# print(grads_value.shape)\n",
    "plt.imshow(x_train[index_image,:,:,0])\n",
    "plt.show()\n",
    "plt.imshow(grads_value[0,:,:,0], cmap = 'jet')\n",
    "plt.show()\n"
   ]
  }
 ],
 "metadata": {
  "kernelspec": {
   "display_name": "Python 3",
   "language": "python",
   "name": "python3"
  },
  "language_info": {
   "codemirror_mode": {
    "name": "ipython",
    "version": 3
   },
   "file_extension": ".py",
   "mimetype": "text/x-python",
   "name": "python",
   "nbconvert_exporter": "python",
   "pygments_lexer": "ipython3",
   "version": "3.6.5"
  }
 },
 "nbformat": 4,
 "nbformat_minor": 2
}
