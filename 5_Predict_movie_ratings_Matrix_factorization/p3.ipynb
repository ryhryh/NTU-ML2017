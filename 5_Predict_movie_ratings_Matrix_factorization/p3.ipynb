{
 "cells": [
  {
   "cell_type": "code",
   "execution_count": 1,
   "metadata": {},
   "outputs": [
    {
     "name": "stderr",
     "output_type": "stream",
     "text": [
      "/data1/home/feynman52/.pyenv/versions/3.6.5/lib/python3.6/site-packages/ipykernel_launcher.py:10: ParserWarning: Falling back to the 'python' engine because the 'c' engine does not support regex separators (separators > 1 char and different from '\\s+' are interpreted as regex); you can avoid this warning by specifying engine='python'.\n",
      "  # Remove the CWD from sys.path while we load stuff.\n",
      "/data1/home/feynman52/.pyenv/versions/3.6.5/lib/python3.6/site-packages/ipykernel_launcher.py:11: ParserWarning: Falling back to the 'python' engine because the 'c' engine does not support regex separators (separators > 1 char and different from '\\s+' are interpreted as regex); you can avoid this warning by specifying engine='python'.\n",
      "  # This is added back by InteractiveShellApp.init_path()\n"
     ]
    },
    {
     "name": "stdout",
     "output_type": "stream",
     "text": [
      "(1000209,)\n",
      "(1000209,)\n",
      "(6040,)\n",
      "(3706,)\n"
     ]
    }
   ],
   "source": [
    "import pandas as pd\n",
    "import os\n",
    "import numpy as np\n",
    "\n",
    "cur_dir = os.getcwd()\n",
    "path = os.path.join(cur_dir,'dataset','train.csv')\n",
    "path\n",
    "\n",
    "df_train = pd.read_csv( os.path.join(cur_dir,'dataset','train.csv'), sep=',' )\n",
    "df_movies = pd.read_csv( os.path.join(cur_dir,'dataset','movies.csv'), sep='::' )\n",
    "df_users = pd.read_csv( os.path.join(cur_dir,'dataset','users.csv'), sep='::' )\n",
    "df_test = pd.read_csv( os.path.join(cur_dir,'dataset','test.csv'), sep=',' )\n",
    "df_SampleSubmisson = pd.read_csv( os.path.join(cur_dir,'dataset','SampleSubmisson.csv'), sep=',' )\n",
    "\n",
    "mean = df_train.Rating.mean()\n",
    "std = df_train.Rating.std()\n",
    "df_train['Rating_normalized'] = (df_train['Rating'] - mean)/std\n",
    "\n",
    "all_user = np.concatenate([df_train.UserID,df_test.UserID],axis=0)\n",
    "all_movie = np.concatenate([df_train.MovieID,df_test.MovieID],axis=0)\n",
    "print(all_user.shape)\n",
    "print(all_movie.shape)\n",
    "all_user = np.unique(all_user)\n",
    "all_movie = np.unique(all_movie)\n",
    "print(all_user.shape)\n",
    "print(all_movie.shape)\n",
    "\n",
    "\n",
    "df_all_movie = pd.DataFrame({'movie_id':all_movie})\n",
    "df_all_movie['movie_index'] = df_all_movie.index\n",
    "\n",
    "df_all_user = pd.DataFrame({'user_id':all_user})\n",
    "df_all_user['user_index'] = df_all_user.index\n",
    "\n",
    "\n",
    "movie_id_to_index = df_all_movie.set_index('movie_id').to_dict()\n",
    "movie_id_to_index = movie_id_to_index['movie_index']\n",
    "user_id_to_index = df_all_user.set_index('user_id').to_dict()\n",
    "user_id_to_index = user_id_to_index['user_index']\n",
    "\n",
    "df_train['user_index'] =  df_train.apply(lambda row: user_id_to_index[row.UserID] ,axis=1)\n",
    "df_train['movie_index'] =  df_train.apply(lambda row: movie_id_to_index[row.MovieID] ,axis=1)\n",
    "\n",
    "df_train\n",
    "\n",
    "\n",
    "user_train = df_train.user_index\n",
    "movie_train = df_train.movie_index\n",
    "rating_train = df_train.Rating\n"
   ]
  },
  {
   "cell_type": "markdown",
   "metadata": {},
   "source": [
    "# w/i & w/o bias, w/o normalization"
   ]
  },
  {
   "cell_type": "code",
   "execution_count": 2,
   "metadata": {},
   "outputs": [
    {
     "name": "stderr",
     "output_type": "stream",
     "text": [
      "Using TensorFlow backend.\n"
     ]
    }
   ],
   "source": [
    "from keras.layers import Input, Dense, Embedding, Flatten, dot, add\n",
    "from keras.models import Model\n",
    "from keras.utils import get_custom_objects\n",
    "import keras.backend as K\n",
    "from sklearn.utils import shuffle\n",
    "import matplotlib.pylab as plt"
   ]
  },
  {
   "cell_type": "code",
   "execution_count": 3,
   "metadata": {},
   "outputs": [],
   "source": [
    "n_users= len(user_train)\n",
    "n_movies= len(movie_train)\n",
    "latent_dim = 20"
   ]
  },
  {
   "cell_type": "code",
   "execution_count": 4,
   "metadata": {},
   "outputs": [],
   "source": [
    "def my_model(is_bias):\n",
    "\n",
    "    # build model---------------------------------------------------------\n",
    "    user_input = Input(shape=(1,))\n",
    "    movie_input = Input(shape=(1,))\n",
    "\n",
    "    user_vecter = Embedding(n_users, latent_dim, embeddings_initializer=\"random_normal\")(user_input)\n",
    "    user_vecter = Flatten()(user_vecter)\n",
    "    movie_vecter = Embedding(n_movies, latent_dim, embeddings_initializer=\"random_normal\")(movie_input)\n",
    "    movie_vecter = Flatten()(movie_vecter)\n",
    "    rating_predict = dot([user_vecter,movie_vecter],axes=1)\n",
    "    \n",
    "    if is_bias:\n",
    "        user_bias = Embedding(n_users, 1, embeddings_initializer=\"zeros\")(user_input)\n",
    "        user_bias = Flatten()(user_bias)\n",
    "        movie_bias = Embedding(n_movies, 1, embeddings_initializer=\"zeros\")(movie_input)\n",
    "        movie_bias = Flatten()(movie_bias)\n",
    "        rating_predict = add([rating_predict,user_bias,movie_bias])\n",
    "\n",
    "    model = Model([user_input,movie_input],rating_predict)\n",
    "\n",
    "    # compile model---------------------------------------------------------\n",
    "    def rmse(y_true, y_pred):\n",
    "        y_pred = K.clip(y_pred, 1.0, 5.0)\n",
    "        return K.sqrt(K.mean(K.pow(y_true - y_pred, 2)))\n",
    "    get_custom_objects().update({\"rmse\": rmse})\n",
    "\n",
    "    model.compile(loss=\"mse\", optimizer=\"adam\", metrics=[rmse])\n",
    "\n",
    "    model.summary()\n",
    "\n",
    "    # fit model---------------------------------------------------------\n",
    "    batch_size=1000\n",
    "    epochs = 10\n",
    "\n",
    "    user_train2, movie_train2, rating_train2 = shuffle(user_train, movie_train, rating_train)\n",
    "\n",
    "\n",
    "    history = model.fit([user_train2, movie_train2],\n",
    "                        rating_train2,\n",
    "                        batch_size=batch_size,\n",
    "                        epochs=epochs,\n",
    "                        validation_split=0.1,\n",
    "                        shuffle=True)\n",
    "    \n",
    "    # plot\n",
    "    plt.plot(history.history['loss'])\n",
    "    plt.plot(history.history['val_loss'])\n",
    "    plt.title('model loss')\n",
    "    plt.ylabel('loss')\n",
    "    plt.xlabel('epoch')\n",
    "    plt.legend(['train', 'test'], loc='upper right')\n",
    "    plt.show()\n",
    "    \n",
    "    \n",
    "    "
   ]
  },
  {
   "cell_type": "code",
   "execution_count": 5,
   "metadata": {
    "scrolled": true
   },
   "outputs": [
    {
     "name": "stdout",
     "output_type": "stream",
     "text": [
      "----------------------------------------------------------------------\n",
      "-----------------------------------False-----------------------------------\n",
      "__________________________________________________________________________________________________\n",
      "Layer (type)                    Output Shape         Param #     Connected to                     \n",
      "==================================================================================================\n",
      "input_1 (InputLayer)            (None, 1)            0                                            \n",
      "__________________________________________________________________________________________________\n",
      "input_2 (InputLayer)            (None, 1)            0                                            \n",
      "__________________________________________________________________________________________________\n",
      "embedding_1 (Embedding)         (None, 1, 20)        17997460    input_1[0][0]                    \n",
      "__________________________________________________________________________________________________\n",
      "embedding_2 (Embedding)         (None, 1, 20)        17997460    input_2[0][0]                    \n",
      "__________________________________________________________________________________________________\n",
      "flatten_1 (Flatten)             (None, 20)           0           embedding_1[0][0]                \n",
      "__________________________________________________________________________________________________\n",
      "flatten_2 (Flatten)             (None, 20)           0           embedding_2[0][0]                \n",
      "__________________________________________________________________________________________________\n",
      "dot_1 (Dot)                     (None, 1)            0           flatten_1[0][0]                  \n",
      "                                                                 flatten_2[0][0]                  \n",
      "==================================================================================================\n",
      "Total params: 35,994,920\n",
      "Trainable params: 35,994,920\n",
      "Non-trainable params: 0\n",
      "__________________________________________________________________________________________________\n",
      "Train on 809885 samples, validate on 89988 samples\n",
      "Epoch 1/10\n",
      "809885/809885 [==============================] - 21s 25us/step - loss: 11.4533 - rmse: 2.6878 - val_loss: 3.6526 - val_rmse: 1.8756\n",
      "Epoch 2/10\n",
      "809885/809885 [==============================] - 17s 21us/step - loss: 1.6840 - rmse: 1.2685 - val_loss: 1.0737 - val_rmse: 1.0325\n",
      "Epoch 3/10\n",
      "809885/809885 [==============================] - 17s 20us/step - loss: 0.9378 - rmse: 0.9660 - val_loss: 0.8880 - val_rmse: 0.9404\n",
      "Epoch 4/10\n",
      "809885/809885 [==============================] - 17s 20us/step - loss: 0.8417 - rmse: 0.9162 - val_loss: 0.8421 - val_rmse: 0.9161\n",
      "Epoch 5/10\n",
      "809885/809885 [==============================] - 17s 21us/step - loss: 0.8084 - rmse: 0.8983 - val_loss: 0.8209 - val_rmse: 0.9047\n",
      "Epoch 6/10\n",
      "809885/809885 [==============================] - 17s 20us/step - loss: 0.7882 - rmse: 0.8871 - val_loss: 0.8086 - val_rmse: 0.8979\n",
      "Epoch 7/10\n",
      "809885/809885 [==============================] - 17s 20us/step - loss: 0.7733 - rmse: 0.8787 - val_loss: 0.7992 - val_rmse: 0.8927\n",
      "Epoch 8/10\n",
      "809885/809885 [==============================] - 17s 20us/step - loss: 0.7606 - rmse: 0.8715 - val_loss: 0.7911 - val_rmse: 0.8882\n",
      "Epoch 9/10\n",
      "809885/809885 [==============================] - 17s 20us/step - loss: 0.7492 - rmse: 0.8649 - val_loss: 0.7837 - val_rmse: 0.8840\n",
      "Epoch 10/10\n",
      "809885/809885 [==============================] - 17s 20us/step - loss: 0.7389 - rmse: 0.8589 - val_loss: 0.7794 - val_rmse: 0.8815\n"
     ]
    },
    {
     "data": {
      "image/png": "[encoded data removed]",
      "text/plain": [
       "<matplotlib.figure.Figure at 0x7fdbe2149e10>"
      ]
     },
     "metadata": {},
     "output_type": "display_data"
    },
    {
     "name": "stdout",
     "output_type": "stream",
     "text": [
      "----------------------------------------------------------------------\n",
      "-----------------------------------True-----------------------------------\n",
      "__________________________________________________________________________________________________\n",
      "Layer (type)                    Output Shape         Param #     Connected to                     \n",
      "==================================================================================================\n",
      "input_3 (InputLayer)            (None, 1)            0                                            \n",
      "__________________________________________________________________________________________________\n",
      "input_4 (InputLayer)            (None, 1)            0                                            \n",
      "__________________________________________________________________________________________________\n",
      "embedding_3 (Embedding)         (None, 1, 20)        17997460    input_3[0][0]                    \n",
      "__________________________________________________________________________________________________\n",
      "embedding_4 (Embedding)         (None, 1, 20)        17997460    input_4[0][0]                    \n",
      "__________________________________________________________________________________________________\n",
      "flatten_3 (Flatten)             (None, 20)           0           embedding_3[0][0]                \n",
      "__________________________________________________________________________________________________\n",
      "flatten_4 (Flatten)             (None, 20)           0           embedding_4[0][0]                \n",
      "__________________________________________________________________________________________________\n",
      "embedding_5 (Embedding)         (None, 1, 1)         899873      input_3[0][0]                    \n",
      "__________________________________________________________________________________________________\n",
      "embedding_6 (Embedding)         (None, 1, 1)         899873      input_4[0][0]                    \n",
      "__________________________________________________________________________________________________\n",
      "dot_2 (Dot)                     (None, 1)            0           flatten_3[0][0]                  \n",
      "                                                                 flatten_4[0][0]                  \n",
      "__________________________________________________________________________________________________\n",
      "flatten_5 (Flatten)             (None, 1)            0           embedding_5[0][0]                \n",
      "__________________________________________________________________________________________________\n",
      "flatten_6 (Flatten)             (None, 1)            0           embedding_6[0][0]                \n",
      "__________________________________________________________________________________________________\n",
      "add_1 (Add)                     (None, 1)            0           dot_2[0][0]                      \n",
      "                                                                 flatten_5[0][0]                  \n",
      "                                                                 flatten_6[0][0]                  \n",
      "==================================================================================================\n",
      "Total params: 37,794,666\n",
      "Trainable params: 37,794,666\n",
      "Non-trainable params: 0\n",
      "__________________________________________________________________________________________________\n",
      "Train on 809885 samples, validate on 89988 samples\n",
      "Epoch 1/10\n",
      "809885/809885 [==============================] - 18s 22us/step - loss: 9.5916 - rmse: 2.6007 - val_loss: 2.7409 - val_rmse: 1.6455\n",
      "Epoch 2/10\n",
      "809885/809885 [==============================] - 17s 22us/step - loss: 1.4101 - rmse: 1.1716 - val_loss: 0.9977 - val_rmse: 0.9970\n",
      "Epoch 3/10\n",
      "809885/809885 [==============================] - 17s 21us/step - loss: 0.9022 - rmse: 0.9486 - val_loss: 0.8687 - val_rmse: 0.9310\n",
      "Epoch 4/10\n",
      "809885/809885 [==============================] - 17s 22us/step - loss: 0.8357 - rmse: 0.9134 - val_loss: 0.8346 - val_rmse: 0.9127\n",
      "Epoch 5/10\n",
      "809885/809885 [==============================] - 17s 22us/step - loss: 0.8094 - rmse: 0.8990 - val_loss: 0.8175 - val_rmse: 0.9033\n",
      "Epoch 6/10\n",
      "809885/809885 [==============================] - 17s 22us/step - loss: 0.7897 - rmse: 0.8880 - val_loss: 0.8028 - val_rmse: 0.8951\n",
      "Epoch 7/10\n",
      "809885/809885 [==============================] - 17s 22us/step - loss: 0.7717 - rmse: 0.8778 - val_loss: 0.7909 - val_rmse: 0.8884\n",
      "Epoch 8/10\n",
      "809885/809885 [==============================] - 17s 21us/step - loss: 0.7560 - rmse: 0.8689 - val_loss: 0.7824 - val_rmse: 0.8836\n",
      "Epoch 9/10\n",
      "809885/809885 [==============================] - 17s 21us/step - loss: 0.7419 - rmse: 0.8608 - val_loss: 0.7743 - val_rmse: 0.8790\n",
      "Epoch 10/10\n",
      "809885/809885 [==============================] - 17s 21us/step - loss: 0.7287 - rmse: 0.8530 - val_loss: 0.7672 - val_rmse: 0.8750\n"
     ]
    },
    {
     "data": {
      "image/png": "[encoded data removed]",
      "text/plain": [
       "<matplotlib.figure.Figure at 0x7fdb3e6d5940>"
      ]
     },
     "metadata": {},
     "output_type": "display_data"
    }
   ],
   "source": [
    "for is_bias in [False,True]:\n",
    "    print('----------------------------------------------------------------------')\n",
    "    print('-----------------------------------%s-----------------------------------'%(is_bias))\n",
    "    my_model(is_bias)\n",
    "    \n",
    "    \n",
    "    \n",
    "    "
   ]
  },
  {
   "cell_type": "markdown",
   "metadata": {},
   "source": [
    "# plot different model in one figure"
   ]
  },
  {
   "cell_type": "code",
   "execution_count": 7,
   "metadata": {},
   "outputs": [],
   "source": [
    "def return_model(is_bias):\n",
    "\n",
    "    # build model---------------------------------------------------------\n",
    "    user_input = Input(shape=(1,))\n",
    "    movie_input = Input(shape=(1,))\n",
    "\n",
    "    user_vecter = Embedding(n_users, latent_dim, embeddings_initializer=\"random_normal\")(user_input)\n",
    "    user_vecter = Flatten()(user_vecter)\n",
    "    movie_vecter = Embedding(n_movies, latent_dim, embeddings_initializer=\"random_normal\")(movie_input)\n",
    "    movie_vecter = Flatten()(movie_vecter)\n",
    "    rating_predict = dot([user_vecter,movie_vecter],axes=1)\n",
    "    \n",
    "    if is_bias:\n",
    "        user_bias = Embedding(n_users, 1, embeddings_initializer=\"zeros\")(user_input)\n",
    "        user_bias = Flatten()(user_bias)\n",
    "        movie_bias = Embedding(n_movies, 1, embeddings_initializer=\"zeros\")(movie_input)\n",
    "        movie_bias = Flatten()(movie_bias)\n",
    "        rating_predict = add([rating_predict,user_bias,movie_bias])\n",
    "\n",
    "    model = Model([user_input,movie_input],rating_predict)\n",
    "\n",
    "    # compile model---------------------------------------------------------\n",
    "    def rmse(y_true, y_pred):\n",
    "        y_pred = K.clip(y_pred, 1.0, 5.0)\n",
    "        return K.sqrt(K.mean(K.pow(y_true - y_pred, 2)))\n",
    "    get_custom_objects().update({\"rmse\": rmse})\n",
    "\n",
    "    model.compile(loss=\"mse\", optimizer=\"adam\", metrics=[rmse])\n",
    "\n",
    "    return model\n",
    "    "
   ]
  },
  {
   "cell_type": "code",
   "execution_count": 11,
   "metadata": {
    "scrolled": true
   },
   "outputs": [
    {
     "name": "stdout",
     "output_type": "stream",
     "text": [
      "__________________________________________________________________________________________________\n",
      "Layer (type)                    Output Shape         Param #     Connected to                     \n",
      "==================================================================================================\n",
      "input_11 (InputLayer)           (None, 1)            0                                            \n",
      "__________________________________________________________________________________________________\n",
      "input_12 (InputLayer)           (None, 1)            0                                            \n",
      "__________________________________________________________________________________________________\n",
      "embedding_13 (Embedding)        (None, 1, 20)        17997460    input_11[0][0]                   \n",
      "__________________________________________________________________________________________________\n",
      "embedding_14 (Embedding)        (None, 1, 20)        17997460    input_12[0][0]                   \n",
      "__________________________________________________________________________________________________\n",
      "flatten_13 (Flatten)            (None, 20)           0           embedding_13[0][0]               \n",
      "__________________________________________________________________________________________________\n",
      "flatten_14 (Flatten)            (None, 20)           0           embedding_14[0][0]               \n",
      "__________________________________________________________________________________________________\n",
      "embedding_15 (Embedding)        (None, 1, 1)         899873      input_11[0][0]                   \n",
      "__________________________________________________________________________________________________\n",
      "embedding_16 (Embedding)        (None, 1, 1)         899873      input_12[0][0]                   \n",
      "__________________________________________________________________________________________________\n",
      "dot_6 (Dot)                     (None, 1)            0           flatten_13[0][0]                 \n",
      "                                                                 flatten_14[0][0]                 \n",
      "__________________________________________________________________________________________________\n",
      "flatten_15 (Flatten)            (None, 1)            0           embedding_15[0][0]               \n",
      "__________________________________________________________________________________________________\n",
      "flatten_16 (Flatten)            (None, 1)            0           embedding_16[0][0]               \n",
      "__________________________________________________________________________________________________\n",
      "add_2 (Add)                     (None, 1)            0           dot_6[0][0]                      \n",
      "                                                                 flatten_15[0][0]                 \n",
      "                                                                 flatten_16[0][0]                 \n",
      "==================================================================================================\n",
      "Total params: 37,794,666\n",
      "Trainable params: 37,794,666\n",
      "Non-trainable params: 0\n",
      "__________________________________________________________________________________________________\n",
      "Train on 809885 samples, validate on 89988 samples\n",
      "Epoch 1/10\n",
      "809885/809885 [==============================] - 17s 21us/step - loss: 9.4205 - rmse: 2.5711 - val_loss: 2.4989 - val_rmse: 1.5719\n",
      "Epoch 2/10\n",
      "809885/809885 [==============================] - 16s 20us/step - loss: 1.3644 - rmse: 1.1544 - val_loss: 0.9843 - val_rmse: 0.9901\n",
      "Epoch 3/10\n",
      "809885/809885 [==============================] - 16s 20us/step - loss: 0.8967 - rmse: 0.9457 - val_loss: 0.8621 - val_rmse: 0.9273\n",
      "Epoch 4/10\n",
      "809885/809885 [==============================] - 16s 20us/step - loss: 0.8299 - rmse: 0.9102 - val_loss: 0.8268 - val_rmse: 0.9083\n",
      "Epoch 5/10\n",
      "809885/809885 [==============================] - 16s 20us/step - loss: 0.8021 - rmse: 0.8950 - val_loss: 0.8086 - val_rmse: 0.8984\n",
      "Epoch 6/10\n",
      "809885/809885 [==============================] - 16s 20us/step - loss: 0.7843 - rmse: 0.8850 - val_loss: 0.7975 - val_rmse: 0.8922\n",
      "Epoch 7/10\n",
      "809885/809885 [==============================] - 16s 20us/step - loss: 0.7707 - rmse: 0.8773 - val_loss: 0.7885 - val_rmse: 0.8872\n",
      "Epoch 8/10\n",
      "809885/809885 [==============================] - 16s 20us/step - loss: 0.7585 - rmse: 0.8703 - val_loss: 0.7802 - val_rmse: 0.8824\n",
      "Epoch 9/10\n",
      "809885/809885 [==============================] - 17s 20us/step - loss: 0.7466 - rmse: 0.8635 - val_loss: 0.7725 - val_rmse: 0.8781\n",
      "Epoch 10/10\n",
      "809885/809885 [==============================] - 16s 20us/step - loss: 0.7340 - rmse: 0.8562 - val_loss: 0.7665 - val_rmse: 0.8746\n"
     ]
    }
   ],
   "source": [
    "model_bias_true = return_model(True)\n",
    "model_bias_true.summary()\n",
    "\n",
    "batch_size=1000\n",
    "epochs = 10\n",
    "user_train2, movie_train2, rating_train2 = shuffle(user_train, movie_train, rating_train)\n",
    "\n",
    "history_bias_true = model_bias_true.fit([user_train2, movie_train2],\n",
    "                                        rating_train2,\n",
    "                                        batch_size=batch_size,\n",
    "                                        epochs=epochs,\n",
    "                                        validation_split=0.1,\n",
    "                                        shuffle=True)"
   ]
  },
  {
   "cell_type": "code",
   "execution_count": 12,
   "metadata": {
    "scrolled": true
   },
   "outputs": [
    {
     "name": "stdout",
     "output_type": "stream",
     "text": [
      "__________________________________________________________________________________________________\n",
      "Layer (type)                    Output Shape         Param #     Connected to                     \n",
      "==================================================================================================\n",
      "input_13 (InputLayer)           (None, 1)            0                                            \n",
      "__________________________________________________________________________________________________\n",
      "input_14 (InputLayer)           (None, 1)            0                                            \n",
      "__________________________________________________________________________________________________\n",
      "embedding_17 (Embedding)        (None, 1, 20)        17997460    input_13[0][0]                   \n",
      "__________________________________________________________________________________________________\n",
      "embedding_18 (Embedding)        (None, 1, 20)        17997460    input_14[0][0]                   \n",
      "__________________________________________________________________________________________________\n",
      "flatten_17 (Flatten)            (None, 20)           0           embedding_17[0][0]               \n",
      "__________________________________________________________________________________________________\n",
      "flatten_18 (Flatten)            (None, 20)           0           embedding_18[0][0]               \n",
      "__________________________________________________________________________________________________\n",
      "dot_7 (Dot)                     (None, 1)            0           flatten_17[0][0]                 \n",
      "                                                                 flatten_18[0][0]                 \n",
      "==================================================================================================\n",
      "Total params: 35,994,920\n",
      "Trainable params: 35,994,920\n",
      "Non-trainable params: 0\n",
      "__________________________________________________________________________________________________\n",
      "Train on 809885 samples, validate on 89988 samples\n",
      "Epoch 1/10\n",
      "809885/809885 [==============================] - 16s 20us/step - loss: 11.4278 - rmse: 2.6858 - val_loss: 3.5317 - val_rmse: 1.8478\n",
      "Epoch 2/10\n",
      "809885/809885 [==============================] - 16s 19us/step - loss: 1.6571 - rmse: 1.2592 - val_loss: 1.0543 - val_rmse: 1.0239\n",
      "Epoch 3/10\n",
      "809885/809885 [==============================] - 16s 20us/step - loss: 0.9405 - rmse: 0.9675 - val_loss: 0.8897 - val_rmse: 0.9416\n",
      "Epoch 4/10\n",
      "809885/809885 [==============================] - 16s 20us/step - loss: 0.8571 - rmse: 0.9245 - val_loss: 0.8551 - val_rmse: 0.9235\n",
      "Epoch 5/10\n",
      "809885/809885 [==============================] - 16s 20us/step - loss: 0.8349 - rmse: 0.9128 - val_loss: 0.8418 - val_rmse: 0.9164\n",
      "Epoch 6/10\n",
      "809885/809885 [==============================] - 16s 20us/step - loss: 0.8232 - rmse: 0.9065 - val_loss: 0.8338 - val_rmse: 0.9120\n",
      "Epoch 7/10\n",
      "809885/809885 [==============================] - 16s 20us/step - loss: 0.8119 - rmse: 0.9003 - val_loss: 0.8238 - val_rmse: 0.9067\n",
      "Epoch 8/10\n",
      "809885/809885 [==============================] - 16s 20us/step - loss: 0.7982 - rmse: 0.8927 - val_loss: 0.8135 - val_rmse: 0.9010\n",
      "Epoch 9/10\n",
      "809885/809885 [==============================] - 16s 20us/step - loss: 0.7820 - rmse: 0.8837 - val_loss: 0.8027 - val_rmse: 0.8950\n",
      "Epoch 10/10\n",
      "809885/809885 [==============================] - 16s 20us/step - loss: 0.7654 - rmse: 0.8743 - val_loss: 0.7907 - val_rmse: 0.8883\n"
     ]
    }
   ],
   "source": [
    "model_bias_false = return_model(False)\n",
    "model_bias_false.summary()\n",
    "\n",
    "batch_size=1000\n",
    "epochs = 10\n",
    "user_train2, movie_train2, rating_train2 = shuffle(user_train, movie_train, rating_train)\n",
    "\n",
    "history_bias_false = model_bias_false.fit([user_train2, movie_train2],\n",
    "                                            rating_train2,\n",
    "                                            batch_size=batch_size,\n",
    "                                            epochs=epochs,\n",
    "                                            validation_split=0.1,\n",
    "                                            shuffle=True)"
   ]
  },
  {
   "cell_type": "code",
   "execution_count": 14,
   "metadata": {},
   "outputs": [
    {
     "data": {
      "image/png": "[encoded data removed]",
      "text/plain": [
       "<matplotlib.figure.Figure at 0x7fd73ffcb518>"
      ]
     },
     "metadata": {},
     "output_type": "display_data"
    }
   ],
   "source": [
    "\n",
    "\n",
    "# plot\n",
    "plt.plot(history_bias_true.history['rmse'],label='bias_true rmse')\n",
    "plt.plot(history_bias_false.history['rmse'],label='bias_false rmse')\n",
    "plt.title('model loss')\n",
    "plt.ylabel('rmse')\n",
    "plt.xlabel('epoch')\n",
    "# plt.legend(['train', 'test'], loc='upper right')\n",
    "plt.legend()\n",
    "plt.show()\n"
   ]
  },
  {
   "cell_type": "code",
   "execution_count": 15,
   "metadata": {},
   "outputs": [
    {
     "data": {
      "image/png": "[encoded data removed]",
      "text/plain": [
       "<matplotlib.figure.Figure at 0x7fd73fec86d8>"
      ]
     },
     "metadata": {},
     "output_type": "display_data"
    }
   ],
   "source": [
    "\n",
    "\n",
    "# plot\n",
    "plt.plot(history_bias_true.history['val_rmse'],label='bias_true val_rmse')\n",
    "plt.plot(history_bias_false.history['val_rmse'],label='bias_false val_rmse')\n",
    "plt.title('model loss')\n",
    "plt.ylabel('rmse')\n",
    "plt.xlabel('epoch')\n",
    "# plt.legend(['train', 'test'], loc='upper right')\n",
    "plt.legend()\n",
    "plt.show()\n"
   ]
  },
  {
   "cell_type": "code",
   "execution_count": null,
   "metadata": {},
   "outputs": [],
   "source": []
  },
  {
   "cell_type": "code",
   "execution_count": null,
   "metadata": {},
   "outputs": [],
   "source": []
  }
 ],
 "metadata": {
  "kernelspec": {
   "display_name": "Python 3",
   "language": "python",
   "name": "python3"
  },
  "language_info": {
   "codemirror_mode": {
    "name": "ipython",
    "version": 3
   },
   "file_extension": ".py",
   "mimetype": "text/x-python",
   "name": "python",
   "nbconvert_exporter": "python",
   "pygments_lexer": "ipython3",
   "version": "3.6.5"
  }
 },
 "nbformat": 4,
 "nbformat_minor": 2
}
