{
 "cells": [
  {
   "cell_type": "markdown",
   "metadata": {},
   "source": [
    "https://photos.app.goo.gl/1J21tCSVy2UHczYE9"
   ]
  },
  {
   "cell_type": "markdown",
   "metadata": {},
   "source": [
    "multivariate gaussian  \n",
    "https://en.wikipedia.org/wiki/Multivariate_normal_distribution  \n",
    "https://www.youtube.com/watch?v=JjB58InuTqM&index=6&list=LLyG2f9f44zZhZr8cLPOa4UQ&t=1s"
   ]
  },
  {
   "cell_type": "code",
   "execution_count": 272,
   "metadata": {
    "collapsed": true
   },
   "outputs": [],
   "source": [
    "import os\n",
    "import pandas as pd\n",
    "import numpy as np\n",
    "from glob import glob"
   ]
  },
  {
   "cell_type": "markdown",
   "metadata": {},
   "source": [
    "# data preprocessing"
   ]
  },
  {
   "cell_type": "code",
   "execution_count": 273,
   "metadata": {},
   "outputs": [
    {
     "data": {
      "text/plain": [
       "['/media/disk3/feynman52/ntu-ml/hw2/dataset/X_test',\n",
       " '/media/disk3/feynman52/ntu-ml/hw2/dataset/Y_train',\n",
       " '/media/disk3/feynman52/ntu-ml/hw2/dataset/X_train',\n",
       " '/media/disk3/feynman52/ntu-ml/hw2/dataset/train.csv',\n",
       " '/media/disk3/feynman52/ntu-ml/hw2/dataset/test.csv']"
      ]
     },
     "execution_count": 273,
     "metadata": {},
     "output_type": "execute_result"
    }
   ],
   "source": [
    "path_list = glob(os.path.join(os.getcwd(),'dataset','*'))\n",
    "path_list"
   ]
  },
  {
   "cell_type": "code",
   "execution_count": 274,
   "metadata": {
    "scrolled": true
   },
   "outputs": [],
   "source": [
    "df_Y_train = pd.read_csv(path_list[1])\n",
    "# df_Y_train"
   ]
  },
  {
   "cell_type": "code",
   "execution_count": 275,
   "metadata": {
    "scrolled": true
   },
   "outputs": [],
   "source": [
    "df_X_train = pd.read_csv(path_list[2])\n",
    "# df_X_train"
   ]
  },
  {
   "cell_type": "code",
   "execution_count": 276,
   "metadata": {
    "scrolled": true
   },
   "outputs": [],
   "source": [
    "# list(df_X_train.columns)"
   ]
  },
  {
   "cell_type": "code",
   "execution_count": 277,
   "metadata": {
    "scrolled": true
   },
   "outputs": [],
   "source": [
    "df_X_test = pd.read_csv(path_list[0])\n",
    "# df_X_test"
   ]
  },
  {
   "cell_type": "code",
   "execution_count": 278,
   "metadata": {},
   "outputs": [],
   "source": [
    "df_train = pd.read_csv(path_list[-2])\n",
    "# df_train\n"
   ]
  },
  {
   "cell_type": "code",
   "execution_count": 279,
   "metadata": {},
   "outputs": [],
   "source": [
    "df_test = pd.read_csv(path_list[-1])\n",
    "# df_test\n"
   ]
  },
  {
   "cell_type": "code",
   "execution_count": 280,
   "metadata": {
    "collapsed": true,
    "scrolled": true
   },
   "outputs": [],
   "source": [
    "def normalize(arr):\n",
    "    mean = arr.mean(axis=0)\n",
    "    std = arr.std(axis=0)\n",
    "    \n",
    "    # to prevent from divide by inf, std replace 0 with 1\n",
    "    std[std==0] = 1\n",
    "    \n",
    "    arr2 = (arr-mean)/std\n",
    "    return arr2\n",
    "    "
   ]
  },
  {
   "cell_type": "code",
   "execution_count": 281,
   "metadata": {},
   "outputs": [
    {
     "data": {
      "text/plain": [
       "((32561, 1), (32561, 106), (16281, 106))"
      ]
     },
     "execution_count": 281,
     "metadata": {},
     "output_type": "execute_result"
    }
   ],
   "source": [
    "y_train = df_Y_train.values\n",
    "x_train = df_X_train.values\n",
    "x_test = df_X_test.values\n",
    "y_train.shape,x_train.shape,x_test.shape"
   ]
  },
  {
   "cell_type": "code",
   "execution_count": 282,
   "metadata": {},
   "outputs": [
    {
     "name": "stdout",
     "output_type": "stream",
     "text": [
      "(32561,) (32561, 106) (16281, 106)\n",
      "0.0 0.030670557354391753 -0.9941292592084697\n"
     ]
    }
   ],
   "source": [
    "y_train = y_train.astype('float')\n",
    "x_train = x_train.astype('float')\n",
    "x_test = x_test.astype('float')\n",
    "\n",
    "# y_train = normalize(y_train)\n",
    "y_train = y_train.reshape(-1)\n",
    "\n",
    "x_train = normalize(x_train)\n",
    "x_test = normalize(x_test)\n",
    "\n",
    "print(y_train.shape,x_train.shape,x_test.shape,)\n",
    "print(y_train[0] ,x_train[0,0] ,x_test[0,0] )"
   ]
  },
  {
   "cell_type": "code",
   "execution_count": 283,
   "metadata": {},
   "outputs": [
    {
     "data": {
      "text/plain": [
       "((32561, 106), (32561,))"
      ]
     },
     "execution_count": 283,
     "metadata": {},
     "output_type": "execute_result"
    }
   ],
   "source": [
    "def shuffle(arr1,arr2):\n",
    "    id_list = np.arange(len(arr1))\n",
    "    np.random.shuffle(id_list)\n",
    "    \n",
    "    arr1_random = arr1[id_list]\n",
    "    arr2_random = arr2[id_list]\n",
    "    return arr1_random,arr2_random\n",
    "    \n",
    "x_train,y_train = shuffle(x_train,y_train)\n",
    "x_train.shape,y_train.shape"
   ]
  },
  {
   "cell_type": "markdown",
   "metadata": {},
   "source": [
    "# train split to (train,val)"
   ]
  },
  {
   "cell_type": "code",
   "execution_count": 284,
   "metadata": {},
   "outputs": [
    {
     "data": {
      "text/plain": [
       "((29304, 106), (29304,), (3257, 106), (3257,))"
      ]
     },
     "execution_count": 284,
     "metadata": {},
     "output_type": "execute_result"
    }
   ],
   "source": [
    "# split (train,val)\n",
    "split_percent = 0.1\n",
    "num_sample = len(y_train)\n",
    "num_sample_train = int(num_sample*(1-split_percent))\n",
    "x_train_split = x_train[:num_sample_train]\n",
    "y_train_split = y_train[:num_sample_train]\n",
    "x_val_split = x_train[num_sample_train:]\n",
    "y_val_split = y_train[num_sample_train:]\n",
    "x_train_split.shape,y_train_split.shape,x_val_split.shape,y_val_split.shape"
   ]
  },
  {
   "cell_type": "markdown",
   "metadata": {},
   "source": [
    "# training data split to two groups\n",
    "y = 1, group 1 !!!  \n",
    "y = 0, group 2 !!!"
   ]
  },
  {
   "cell_type": "code",
   "execution_count": 285,
   "metadata": {},
   "outputs": [
    {
     "data": {
      "text/plain": [
       "((7038, 106), (7038, 106), (22266, 106), (22266, 106))"
      ]
     },
     "execution_count": 285,
     "metadata": {},
     "output_type": "execute_result"
    }
   ],
   "source": [
    "x_group_1 = []\n",
    "y_group_1 = []\n",
    "x_group_2 = []\n",
    "y_group_2 = []\n",
    "\n",
    "for i in range(len(y_train_split)):\n",
    "    if y_train_split[i] == 1:\n",
    "        x_group_1.append(x_train_split[i])\n",
    "        y_group_1.append(x_train_split[i])\n",
    "    else:\n",
    "        x_group_2.append(x_train_split[i])\n",
    "        y_group_2.append(x_train_split[i])\n",
    "        \n",
    "x_group_1 = np.array(x_group_1)\n",
    "y_group_1 = np.array(y_group_1)\n",
    "x_group_2 = np.array(x_group_2)\n",
    "y_group_2 = np.array(y_group_2)\n",
    "\n",
    "x_group_1.shape,y_group_1.shape,x_group_2.shape,y_group_2.shape,"
   ]
  },
  {
   "cell_type": "markdown",
   "metadata": {},
   "source": [
    "# calculate mu and sigma"
   ]
  },
  {
   "cell_type": "code",
   "execution_count": 286,
   "metadata": {},
   "outputs": [
    {
     "name": "stdout",
     "output_type": "stream",
     "text": [
      "0.4166293324350826 -0.13469597521881027\n",
      "(106,) (106,)\n"
     ]
    }
   ],
   "source": [
    "mu1 = np.mean(x_group_1,axis=0)\n",
    "mu2 = np.mean(x_group_2,axis=0)\n",
    "\n",
    "print(mu1[0],mu2[0])\n",
    "print(mu1.shape,mu2.shape)\n"
   ]
  },
  {
   "cell_type": "code",
   "execution_count": 287,
   "metadata": {
    "scrolled": true
   },
   "outputs": [
    {
     "name": "stdout",
     "output_type": "stream",
     "text": [
      "(7038, 106) (22266, 106)\n",
      "1.0570467320885653 2.230048074641906\n",
      "0.6404173996534827 2.3647440498607164\n"
     ]
    }
   ],
   "source": [
    "\n",
    "x_group_1_norm = x_group_1 - mu1\n",
    "x_group_2_norm = x_group_2 - mu2\n",
    "\n",
    "print(x_group_1_norm.shape,x_group_2_norm.shape)\n",
    "print(x_group_1[0,0],x_group_2[0,0])\n",
    "print(x_group_1_norm[0,0],x_group_2_norm[0,0])"
   ]
  },
  {
   "cell_type": "code",
   "execution_count": 288,
   "metadata": {},
   "outputs": [
    {
     "data": {
      "text/plain": [
       "(7038, 22266)"
      ]
     },
     "execution_count": 288,
     "metadata": {},
     "output_type": "execute_result"
    }
   ],
   "source": [
    "n1 = len(x_group_1_norm)\n",
    "n2 = len(x_group_2_norm)\n",
    "n1,n2"
   ]
  },
  {
   "cell_type": "code",
   "execution_count": 289,
   "metadata": {},
   "outputs": [
    {
     "data": {
      "text/plain": [
       "106"
      ]
     },
     "execution_count": 289,
     "metadata": {},
     "output_type": "execute_result"
    }
   ],
   "source": [
    "dim = x_train.shape[1]\n",
    "dim"
   ]
  },
  {
   "cell_type": "code",
   "execution_count": 290,
   "metadata": {},
   "outputs": [],
   "source": [
    "# i,j=1,2\n",
    "# x_group_1_norm[:,i] @ x_group_1_norm[:,j],np.dot(x_group_1_norm[:,i],x_group_1_norm[:,j])"
   ]
  },
  {
   "cell_type": "code",
   "execution_count": 291,
   "metadata": {},
   "outputs": [],
   "source": [
    "# for i in range(3):\n",
    "#     print('-----')\n",
    "#     for j in range(i,3):\n",
    "#         print(i,j)\n",
    "        "
   ]
  },
  {
   "cell_type": "code",
   "execution_count": 292,
   "metadata": {},
   "outputs": [
    {
     "name": "stdout",
     "output_type": "stream",
     "text": [
      "(106, 106) (106, 106)\n"
     ]
    }
   ],
   "source": [
    "sigma1 = np.zeros(shape=[dim,dim])\n",
    "sigma2 = np.zeros(shape=[dim,dim])\n",
    "\n",
    "for i in range(dim):\n",
    "    for j in range(i,dim):        \n",
    "        # group1\n",
    "        xi = x_group_1_norm[:,i]\n",
    "        xj = x_group_1_norm[:,j]\n",
    "        sigma1[i,j] = (xi @ xj) / n1\n",
    "        sigma1[j,i] = sigma1[i,j]\n",
    "        \n",
    "        # group2\n",
    "        xi = x_group_2_norm[:,i]\n",
    "        xj = x_group_2_norm[:,j]\n",
    "        sigma2[i,j] = (xi @ xj) / n2\n",
    "        sigma2[j,i] = sigma2[i,j]\n",
    "\n",
    "print(sigma1.shape,sigma2.shape)\n"
   ]
  },
  {
   "cell_type": "code",
   "execution_count": 293,
   "metadata": {
    "scrolled": true
   },
   "outputs": [],
   "source": [
    "# sigma1.shape,sigma2.shape\n",
    "# sigma1[0],sigma2[0]\n",
    "# sigma1[:,0],sigma2[:,0]"
   ]
  },
  {
   "cell_type": "code",
   "execution_count": 294,
   "metadata": {
    "scrolled": true
   },
   "outputs": [],
   "source": [
    "sigma = (n1/(n1+n2))*sigma1 + (n2/(n1+n2))*sigma2\n",
    "# sigma.shape,sigma[0]"
   ]
  },
  {
   "cell_type": "code",
   "execution_count": 295,
   "metadata": {},
   "outputs": [
    {
     "data": {
      "text/plain": [
       "(106, 106)"
      ]
     },
     "execution_count": 295,
     "metadata": {},
     "output_type": "execute_result"
    }
   ],
   "source": [
    "sigma_inverse = np.linalg.inv(sigma)\n",
    "sigma_inverse.shape"
   ]
  },
  {
   "cell_type": "markdown",
   "metadata": {},
   "source": [
    "# calculate w and b"
   ]
  },
  {
   "cell_type": "code",
   "execution_count": 296,
   "metadata": {},
   "outputs": [
    {
     "data": {
      "text/plain": [
       "(106,)"
      ]
     },
     "execution_count": 296,
     "metadata": {},
     "output_type": "execute_result"
    }
   ],
   "source": [
    "w = (mu1 - mu2) @ sigma_inverse\n",
    "w.shape"
   ]
  },
  {
   "cell_type": "code",
   "execution_count": 297,
   "metadata": {},
   "outputs": [
    {
     "data": {
      "text/plain": [
       "(1,)"
      ]
     },
     "execution_count": 297,
     "metadata": {},
     "output_type": "execute_result"
    }
   ],
   "source": [
    "b = (- 0.5 * mu1.reshape(1,-1) @ sigma_inverse @ mu1 \n",
    "     - 0.5 * mu2.reshape(1,-1) @ sigma_inverse @ mu2 \n",
    "     + np.log(n1/n2) )\n",
    "b.shape"
   ]
  },
  {
   "cell_type": "markdown",
   "metadata": {},
   "source": [
    "# validate"
   ]
  },
  {
   "cell_type": "code",
   "execution_count": 298,
   "metadata": {},
   "outputs": [
    {
     "data": {
      "text/plain": [
       "((3257,),\n",
       " array([-3.87378248,  1.27105258]),\n",
       " array([-1.71044836,  3.4343867 ]),\n",
       " -2.163334123869173)"
      ]
     },
     "execution_count": 298,
     "metadata": {},
     "output_type": "execute_result"
    }
   ],
   "source": [
    "z_val_predict = x_val_split @ w + b\n",
    "# (3257,) = (3257,106) @ (106,) + (1,)\n",
    "\n",
    "z_val_predict.shape,z_val_predict[:2],(x_val_split @ w)[:2],b[0]"
   ]
  },
  {
   "cell_type": "code",
   "execution_count": 299,
   "metadata": {},
   "outputs": [
    {
     "data": {
      "text/plain": [
       "((3257,), array([0.02035662, 0.78092288, 0.06336145, 0.41238001, 0.17208333]))"
      ]
     },
     "execution_count": 299,
     "metadata": {},
     "output_type": "execute_result"
    }
   ],
   "source": [
    "def sigmoid(z):\n",
    "    res = 1 / (1.0 + np.exp(-z))\n",
    "    return np.clip(res, 1e-8, 1-(1e-8))\n",
    "\n",
    "y_val_predict = sigmoid(z_val_predict)\n",
    "y_val_predict.shape,y_val_predict[:5]"
   ]
  },
  {
   "cell_type": "markdown",
   "metadata": {},
   "source": [
    "# calculate acc\n"
   ]
  },
  {
   "cell_type": "code",
   "execution_count": 300,
   "metadata": {},
   "outputs": [
    {
     "data": {
      "text/plain": [
       "0.842493091802272"
      ]
     },
     "execution_count": 300,
     "metadata": {},
     "output_type": "execute_result"
    }
   ],
   "source": [
    "y_val_predict_category = np.round(y_val_predict)\n",
    "compare = (y_val_predict_category == y_val_split)\n",
    "accuracy = np.sum(compare) / len(x_val_split)\n",
    "accuracy    "
   ]
  },
  {
   "cell_type": "markdown",
   "metadata": {},
   "source": [
    "# calculate cross_entropy"
   ]
  },
  {
   "cell_type": "code",
   "execution_count": 301,
   "metadata": {},
   "outputs": [
    {
     "data": {
      "text/plain": [
       "0.34310682695446265"
      ]
     },
     "execution_count": 301,
     "metadata": {},
     "output_type": "execute_result"
    }
   ],
   "source": [
    "y_real_0 = y_val_split\n",
    "y_real_1 = 1-y_val_split\n",
    "y_predict_0 = y_val_predict\n",
    "y_predict_1 = 1-y_val_predict\n",
    "cross_entropy = - y_real_0 * np.log(y_predict_0) - y_real_1 * np.log(y_predict_1) \n",
    "mean_cross_entropy = np.mean(cross_entropy)\n",
    "mean_cross_entropy"
   ]
  },
  {
   "cell_type": "code",
   "execution_count": null,
   "metadata": {
    "collapsed": true
   },
   "outputs": [],
   "source": []
  },
  {
   "cell_type": "code",
   "execution_count": null,
   "metadata": {
    "collapsed": true
   },
   "outputs": [],
   "source": []
  },
  {
   "cell_type": "code",
   "execution_count": null,
   "metadata": {
    "collapsed": true
   },
   "outputs": [],
   "source": []
  }
 ],
 "metadata": {
  "kernelspec": {
   "display_name": "Python 3",
   "language": "python",
   "name": "python3"
  },
  "language_info": {
   "codemirror_mode": {
    "name": "ipython",
    "version": 3
   },
   "file_extension": ".py",
   "mimetype": "text/x-python",
   "name": "python",
   "nbconvert_exporter": "python",
   "pygments_lexer": "ipython3",
   "version": "3.6.5"
  }
 },
 "nbformat": 4,
 "nbformat_minor": 2
}
