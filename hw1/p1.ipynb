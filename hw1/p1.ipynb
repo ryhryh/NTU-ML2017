{
 "cells": [
  {
   "cell_type": "code",
   "execution_count": 481,
   "metadata": {
    "collapsed": true
   },
   "outputs": [],
   "source": [
    "import os\n",
    "from glob import glob\n",
    "import pandas as pd\n",
    "from IPython.display import display\n",
    "import numpy as np"
   ]
  },
  {
   "cell_type": "markdown",
   "metadata": {},
   "source": [
    "# raw data"
   ]
  },
  {
   "cell_type": "code",
   "execution_count": 482,
   "metadata": {},
   "outputs": [
    {
     "data": {
      "text/plain": [
       "['/media/disk3/feynman52/ntu-ml/hw1/dataset/train.csv',\n",
       " '/media/disk3/feynman52/ntu-ml/hw1/dataset/test.csv']"
      ]
     },
     "execution_count": 482,
     "metadata": {},
     "output_type": "execute_result"
    }
   ],
   "source": [
    "path_list=glob(os.path.join(os.getcwd(),'dataset','*csv*')) \n",
    "path_list"
   ]
  },
  {
   "cell_type": "markdown",
   "metadata": {},
   "source": [
    "https://www.ptt.cc/bbs/Python/M.1479880647.A.47D.html"
   ]
  },
  {
   "cell_type": "code",
   "execution_count": 483,
   "metadata": {
    "scrolled": true
   },
   "outputs": [],
   "source": [
    "df_train = pd.read_csv(path_list[0],encoding = 'big5')\n",
    "# df_train"
   ]
  },
  {
   "cell_type": "markdown",
   "metadata": {},
   "source": [
    "# row order by datetime"
   ]
  },
  {
   "cell_type": "code",
   "execution_count": 484,
   "metadata": {},
   "outputs": [
    {
     "data": {
      "text/plain": [
       "array(['AMB_TEMP', 'CH4', 'CO', 'NMHC', 'NO', 'NO2', 'NOx', 'O3', 'PM10',\n",
       "       'PM2.5', 'RAINFALL', 'RH', 'SO2', 'THC', 'WD_HR', 'WIND_DIREC',\n",
       "       'WIND_SPEED', 'WS_HR'], dtype=object)"
      ]
     },
     "execution_count": 484,
     "metadata": {},
     "output_type": "execute_result"
    }
   ],
   "source": [
    "feature_list = df_train['測項'].unique()\n",
    "feature_list"
   ]
  },
  {
   "cell_type": "code",
   "execution_count": null,
   "metadata": {
    "collapsed": true
   },
   "outputs": [],
   "source": []
  },
  {
   "cell_type": "code",
   "execution_count": 485,
   "metadata": {
    "collapsed": true
   },
   "outputs": [],
   "source": [
    "feature_num = len(feature_list)\n",
    "\n",
    "i=1\n",
    "start = i*feature_num\n",
    "end = (i+1)*feature_num"
   ]
  },
  {
   "cell_type": "code",
   "execution_count": 486,
   "metadata": {
    "scrolled": true
   },
   "outputs": [],
   "source": [
    "df_train[start:end]"
   ]
  },
  {
   "cell_type": "code",
   "execution_count": 487,
   "metadata": {},
   "outputs": [
    {
     "data": {
      "text/plain": [
       "'2014/1/2'"
      ]
     },
     "execution_count": 487,
     "metadata": {},
     "output_type": "execute_result"
    }
   ],
   "source": [
    "date = df_train[start:end].iloc[0,0]\n",
    "date"
   ]
  },
  {
   "cell_type": "code",
   "execution_count": 488,
   "metadata": {},
   "outputs": [
    {
     "data": {
      "text/plain": [
       "DatetimeIndex(['2014-01-02 00:00:00', '2014-01-02 01:00:00',\n",
       "               '2014-01-02 02:00:00', '2014-01-02 03:00:00',\n",
       "               '2014-01-02 04:00:00', '2014-01-02 05:00:00',\n",
       "               '2014-01-02 06:00:00', '2014-01-02 07:00:00',\n",
       "               '2014-01-02 08:00:00', '2014-01-02 09:00:00',\n",
       "               '2014-01-02 10:00:00', '2014-01-02 11:00:00',\n",
       "               '2014-01-02 12:00:00', '2014-01-02 13:00:00',\n",
       "               '2014-01-02 14:00:00', '2014-01-02 15:00:00',\n",
       "               '2014-01-02 16:00:00', '2014-01-02 17:00:00',\n",
       "               '2014-01-02 18:00:00', '2014-01-02 19:00:00',\n",
       "               '2014-01-02 20:00:00', '2014-01-02 21:00:00',\n",
       "               '2014-01-02 22:00:00', '2014-01-02 23:00:00'],\n",
       "              dtype='datetime64[ns]', freq='60T')"
      ]
     },
     "execution_count": 488,
     "metadata": {},
     "output_type": "execute_result"
    }
   ],
   "source": [
    "datetime_list = pd.date_range(start=date, periods=24, freq='60min')\n",
    "datetime_list"
   ]
  },
  {
   "cell_type": "code",
   "execution_count": 489,
   "metadata": {
    "scrolled": true
   },
   "outputs": [],
   "source": [
    "df_dummy = df_train[start:end].T[3:]\n",
    "df_dummy.columns = feature_list\n",
    "df_dummy['time'] = datetime_list\n",
    "df_dummy"
   ]
  },
  {
   "cell_type": "code",
   "execution_count": null,
   "metadata": {
    "collapsed": true
   },
   "outputs": [],
   "source": []
  },
  {
   "cell_type": "code",
   "execution_count": 490,
   "metadata": {
    "scrolled": true
   },
   "outputs": [],
   "source": [
    "df = pd.DataFrame([])\n",
    "i = 0\n",
    "while True:\n",
    "    start = i*feature_num\n",
    "    end = (i+1)*feature_num\n",
    "    if end > len(df_train): break\n",
    "#     if i == 3: break\n",
    "        \n",
    "    date = df_train[start:end].iloc[0,0]\n",
    "    datetime_list = pd.date_range(start=date, periods=24, freq='60min')\n",
    "    \n",
    "    df_dummy = df_train[start:end].T[3:]\n",
    "    df_dummy.columns = feature_list\n",
    "    df_dummy['time'] = datetime_list\n",
    "    \n",
    "#     display(df_dummy)\n",
    "    df = df.append(df_dummy)\n",
    "    \n",
    "    i+=1 \n",
    "    \n",
    "df"
   ]
  },
  {
   "cell_type": "code",
   "execution_count": 491,
   "metadata": {
    "scrolled": true
   },
   "outputs": [],
   "source": [
    "col_list = list(df.columns)\n",
    "col_list = col_list[-1:] + col_list[:-1]\n",
    "col_list\n",
    "df = df[col_list]\n",
    "# df"
   ]
  },
  {
   "cell_type": "code",
   "execution_count": 492,
   "metadata": {},
   "outputs": [],
   "source": [
    "def return_val(x):\n",
    "    if x == 'NR': return 0\n",
    "    else: return float(x)\n",
    "    \n",
    "for col in df.columns:\n",
    "    if col != 'time':\n",
    "        df[col] = df[col].apply(lambda x: return_val(x))\n",
    "# df"
   ]
  },
  {
   "cell_type": "code",
   "execution_count": 493,
   "metadata": {},
   "outputs": [],
   "source": [
    "df = df.reset_index(drop=True)\n",
    "# df"
   ]
  },
  {
   "cell_type": "code",
   "execution_count": null,
   "metadata": {
    "collapsed": true
   },
   "outputs": [],
   "source": []
  },
  {
   "cell_type": "markdown",
   "metadata": {},
   "source": [
    "# slice one month then slice group by group"
   ]
  },
  {
   "cell_type": "code",
   "execution_count": 494,
   "metadata": {
    "scrolled": true
   },
   "outputs": [
    {
     "data": {
      "text/plain": [
       "((5652, 18, 9), (5652,))"
      ]
     },
     "execution_count": 494,
     "metadata": {},
     "output_type": "execute_result"
    }
   ],
   "source": [
    "day_per_month = 20\n",
    "hr_per_day = 24\n",
    "hr_per_month = day_per_month*hr_per_day\n",
    "hr_per_group = 10\n",
    "\n",
    "x_train = []\n",
    "y_train = []\n",
    "\n",
    "for i_month in range(0,len(df),hr_per_month):\n",
    "    \n",
    "#     if i_month>0: break\n",
    "    \n",
    "    start_month = i_month\n",
    "    end_month = i_month+hr_per_month\n",
    "#     print(start_month,end_month)\n",
    "    df_one_month = df[start_month:end_month]\n",
    "    \n",
    "#     display(df_one_month)\n",
    "\n",
    "    start_group = 0\n",
    "    while True:\n",
    "        \n",
    "#         if start_group > 3: break\n",
    "        \n",
    "        end_group = start_group+hr_per_group\n",
    "        if end_group > len(df_one_month): break\n",
    "            \n",
    "        df_one_group = df_one_month.iloc[start_group:end_group,:]\n",
    "#         display(df_one_group)\n",
    "        start_group+=1\n",
    "        \n",
    "        x = df_one_group.iloc[:-1,1:].values\n",
    "        y = df_one_group['PM2.5'].values[-1]\n",
    "        \n",
    "        x = x.T\n",
    "        \n",
    "        x_train.append(x)\n",
    "        y_train.append(y)\n",
    "    \n",
    "\n",
    "x_train = np.array(x_train)    \n",
    "y_train = np.array(y_train)    \n",
    "    \n",
    "    \n",
    "x_train.shape,y_train.shape"
   ]
  },
  {
   "cell_type": "code",
   "execution_count": 495,
   "metadata": {},
   "outputs": [
    {
     "name": "stdout",
     "output_type": "stream",
     "text": [
      "(5652, 162)\n",
      "(5652, 162)\n",
      "(5652, 163)\n"
     ]
    }
   ],
   "source": [
    "x_train = x_train.reshape(len(x_train),-1)\n",
    "print(x_train.shape)\n",
    "bias=np.ones(shape=(len(x_train),1))\n",
    "print(x_train.shape)\n",
    "x_train = np.concatenate([x_train,bias],axis=1)\n",
    "print(x_train.shape)"
   ]
  },
  {
   "cell_type": "code",
   "execution_count": null,
   "metadata": {
    "collapsed": true
   },
   "outputs": [],
   "source": []
  },
  {
   "cell_type": "markdown",
   "metadata": {
    "collapsed": true
   },
   "source": [
    "# traing"
   ]
  },
  {
   "cell_type": "code",
   "execution_count": 496,
   "metadata": {
    "collapsed": true
   },
   "outputs": [],
   "source": [
    "learning_rate = 10\n",
    "epochs = 100\n",
    "gradient_square_sum = np.zeros( shape=x_train.shape[1] )\n",
    "w=np.zeros(shape=x_train.shape[1])"
   ]
  },
  {
   "cell_type": "code",
   "execution_count": 497,
   "metadata": {},
   "outputs": [
    {
     "name": "stdout",
     "output_type": "stream",
     "text": [
      "--------\n",
      "0 27.071214829194115 732.8506723283793\n",
      "--------\n",
      "1 50528.58459434335 2553137861.1077123\n",
      "--------\n",
      "2 27.066936884635428 732.6190723168378\n",
      "--------\n",
      "3 14.762751444990597 217.93883022657195\n",
      "--------\n",
      "4 14.541508115635352 211.45545827708884\n",
      "--------\n",
      "5 14.32995312616457 205.34755659807374\n",
      "--------\n",
      "6 14.127694167067741 199.59174247819985\n",
      "--------\n",
      "7 13.934353816162963 194.1662162740153\n",
      "--------\n",
      "8 13.749565962276545 189.05056415099372\n",
      "--------\n",
      "9 13.572975656282201 184.22566816602927\n",
      "--------\n",
      "10 13.404238967831501 179.67362230673254\n",
      "--------\n",
      "11 13.243022845405347 175.37765408392792\n",
      "--------\n",
      "12 13.089004977529333 171.32205130178764\n",
      "--------\n",
      "13 12.941873653225596 167.49209365605483\n",
      "--------\n",
      "14 12.801327620015698 163.87398883497676\n",
      "--------\n",
      "15 12.66707593803817 160.45481282002558\n",
      "--------\n",
      "16 12.538837829095216 157.22245410434923\n",
      "--------\n",
      "17 12.416342519691046 154.1655615662878\n",
      "--------\n",
      "18 12.299329077365021 151.2734957533167\n",
      "--------\n",
      "19 12.187546239852127 148.53628334853371\n",
      "--------\n",
      "20 12.080752236818263 145.94457460738946\n",
      "--------\n",
      "21 11.978714604115435 143.48960356684842\n",
      "--------\n",
      "22 11.881209990680402 141.1631508426438\n",
      "--------\n",
      "23 11.788023958358073 138.95750884282393\n",
      "--------\n",
      "24 11.698950775067388 136.86544923744984\n",
      "--------\n",
      "25 11.613793201842148 134.8801925351549\n",
      "--------\n",
      "26 11.53236227437264 132.99537962737327\n",
      "--------\n",
      "27 11.454477079746798 131.20504517044475\n",
      "--------\n",
      "28 11.379964529142846 129.50359268454937\n",
      "--------\n",
      "29 11.308659127260501 127.88577125657224\n",
      "--------\n",
      "30 11.24040273929636 126.34665374158114\n",
      "--------\n",
      "31 11.175044356272704 124.8816163646624\n",
      "--------\n",
      "32 11.112439859519558 123.48631963143904\n",
      "--------\n",
      "33 11.052451785089175 122.15669046172091\n",
      "--------\n",
      "34 10.994949088851937 120.88890546644605\n",
      "--------\n",
      "35 10.939806912984844 119.67937529339098\n",
      "--------\n",
      "36 10.886906354519791 118.52472997208342\n",
      "--------\n",
      "37 10.836134236570304 117.42180519297108\n",
      "--------\n",
      "38 10.787382882803664 116.3676294602055\n",
      "--------\n",
      "39 10.740549895671732 115.35941206141405\n",
      "--------\n",
      "40 10.695537938859164 114.39453180157574\n",
      "--------\n",
      "41 10.652254524353337 113.47052645160615\n",
      "--------\n",
      "42 10.610611804486664 112.58508286551174\n",
      "--------\n",
      "43 10.57052636924995 111.73602772300856\n",
      "--------\n",
      "44 10.531919049125515 110.92131885733289\n",
      "--------\n",
      "45 10.494714723641252 110.13903713061246\n",
      "--------\n",
      "46 10.458842135802211 109.38737882163177\n",
      "--------\n",
      "47 10.424233712514567 108.66464849312524\n",
      "--------\n",
      "48 10.390825391078346 107.96925230787848\n",
      "--------\n",
      "49 10.358556451790056 107.2996917649214\n",
      "--------\n",
      "50 10.327369356664207 106.65455782896687\n",
      "--------\n",
      "51 10.297209594253939 106.03252542799538\n",
      "--------\n",
      "52 10.26802553052511 105.43234829551547\n",
      "--------\n",
      "53 10.23976826571543 104.85285413555278\n",
      "--------\n",
      "54 10.212391497090277 104.29294008984178\n",
      "--------\n",
      "55 10.18585138748952 103.75156848802217\n",
      "--------\n",
      "56 10.16010643954492 103.22776286288216\n",
      "--------\n",
      "57 10.135117375435254 102.72060421384958\n",
      "--------\n",
      "58 10.11084702203602 102.22922750301467\n",
      "--------\n",
      "59 10.087260201312281 101.75281836897868\n",
      "--------\n",
      "60 10.064323625796684 101.2906100447693\n",
      "--------\n",
      "61 10.042005798989859 100.84188046694595\n",
      "--------\n",
      "62 10.020276920516931 100.40594956384426\n",
      "--------\n",
      "63 9.999108795871777 99.98217671168034\n",
      "--------\n",
      "64 9.978474750579766 99.56995834795792\n",
      "--------\n",
      "65 9.95834954860968 99.16872573229462\n",
      "--------\n",
      "66 9.938709314866557 98.77794284541527\n",
      "--------\n",
      "67 9.91953146159886 98.3971044176496\n",
      "--------\n",
      "68 9.9007946185558 98.02573407882349\n",
      "--------\n",
      "69 9.882478566733555 97.6633826219481\n",
      "--------\n",
      "70 9.864564175552538 97.30962637359451\n",
      "--------\n",
      "71 9.847033343311695 96.96406566429229\n",
      "--------\n",
      "72 9.829868940769916 96.62632339271309\n",
      "--------\n",
      "73 9.813054757708978 96.29604367779481\n",
      "--------\n",
      "74 9.796575452337013 95.97289059333214\n",
      "--------\n",
      "75 9.780416503396204 95.65654697990482\n",
      "--------\n",
      "76 9.764564164843136 95.34671332933875\n",
      "--------\n",
      "77 9.749005422975106 95.04310673719802\n",
      "--------\n",
      "78 9.73372795588048 94.74545991908921\n",
      "--------\n",
      "79 9.718720095096149 94.45352028682571\n",
      "--------\n",
      "80 9.703970789359715 94.16704908074662\n",
      "--------\n",
      "81 9.689469570348994 93.8858205547191\n",
      "--------\n",
      "82 9.6752065203059 93.60962121056983\n",
      "--------\n",
      "83 9.661172241446444 93.33824907889532\n",
      "--------\n",
      "84 9.647357827062907 93.07151304339193\n",
      "--------\n",
      "85 9.633754834228736 92.80923220602554\n",
      "--------\n",
      "86 9.620355258020748 92.55123529052744\n",
      "--------\n",
      "87 9.607151507177402 92.29736008186103\n",
      "--------\n",
      "88 9.594136381115804 92.04745289944987\n",
      "--------\n",
      "89 9.58130304823387 91.80136810209565\n",
      "--------\n",
      "90 9.568645025427797 91.55896762264412\n",
      "--------\n",
      "91 9.55615615875842 91.32012053057646\n",
      "--------\n",
      "92 9.543830605203475 91.08470262081852\n",
      "--------\n",
      "93 9.531662815435974 90.85259602716484\n",
      "--------\n",
      "94 9.519647517571997 90.62368885881469\n",
      "--------\n",
      "95 9.507779701834194 90.39787485861031\n",
      "--------\n",
      "96 9.496054606080072 90.17505308165455\n",
      "--------\n",
      "97 9.484467702146873 89.95512759306719\n",
      "--------\n",
      "98 9.473014682967401 89.73800718371596\n",
      "--------\n",
      "99 9.461691450413591 89.52360510282963\n"
     ]
    }
   ],
   "source": [
    "for epoch in range(epochs):\n",
    "    y_hat = x_train @ w\n",
    "    delta_y = y_hat - y_train\n",
    "    gradient = x_train.T @ delta_y\n",
    "\n",
    "    gradient_square_sum = gradient_square_sum + gradient ** 2\n",
    "    ada = np.sqrt(gradient_square_sum)\n",
    "    new_gradient = gradient/ada\n",
    "    w = w - learning_rate*new_gradient\n",
    "\n",
    "    mse = (np.sum(delta_y**2))/len(delta_y)\n",
    "    rmse = np.sqrt(mse)\n",
    "    print('--------')\n",
    "    print(epoch,rmse,mse)\n"
   ]
  },
  {
   "cell_type": "code",
   "execution_count": null,
   "metadata": {
    "collapsed": true
   },
   "outputs": [],
   "source": []
  },
  {
   "cell_type": "markdown",
   "metadata": {
    "collapsed": true
   },
   "source": [
    "# testing"
   ]
  },
  {
   "cell_type": "code",
   "execution_count": 498,
   "metadata": {
    "collapsed": true
   },
   "outputs": [],
   "source": [
    "# save model\n",
    "np.save('model.npy',w)\n",
    "# read model\n",
    "w = np.load('model.npy')"
   ]
  },
  {
   "cell_type": "code",
   "execution_count": 499,
   "metadata": {},
   "outputs": [
    {
     "data": {
      "text/plain": [
       "array(['AMB_TEMP', 'CH4', 'CO', 'NMHC', 'NO', 'NO2', 'NOx', 'O3', 'PM10',\n",
       "       'PM2.5', 'RAINFALL', 'RH', 'SO2', 'THC', 'WD_HR', 'WIND_DIREC',\n",
       "       'WIND_SPEED', 'WS_HR'], dtype=object)"
      ]
     },
     "execution_count": 499,
     "metadata": {},
     "output_type": "execute_result"
    }
   ],
   "source": [
    "feature_list"
   ]
  },
  {
   "cell_type": "code",
   "execution_count": 500,
   "metadata": {},
   "outputs": [
    {
     "data": {
      "text/plain": [
       "18"
      ]
     },
     "execution_count": 500,
     "metadata": {},
     "output_type": "execute_result"
    }
   ],
   "source": [
    "feature_num"
   ]
  },
  {
   "cell_type": "code",
   "execution_count": null,
   "metadata": {
    "collapsed": true
   },
   "outputs": [],
   "source": []
  },
  {
   "cell_type": "code",
   "execution_count": 501,
   "metadata": {
    "scrolled": true
   },
   "outputs": [],
   "source": [
    "df_test = pd.read_csv(path_list[1],encoding = 'big5',header=None)\n",
    "df_test.columns = ['id','feature']+['hr%s'%(i) for i in range(1,10)]\n",
    "# df_test"
   ]
  },
  {
   "cell_type": "code",
   "execution_count": 502,
   "metadata": {},
   "outputs": [
    {
     "data": {
      "text/plain": [
       "'0.09'"
      ]
     },
     "execution_count": 502,
     "metadata": {},
     "output_type": "execute_result"
    }
   ],
   "source": [
    "df_test.iloc[3,3]"
   ]
  },
  {
   "cell_type": "code",
   "execution_count": 503,
   "metadata": {
    "collapsed": true
   },
   "outputs": [],
   "source": [
    "for col in df_test.columns:\n",
    "    if col not in ['id','feature']:\n",
    "        df_test[col] = df_test[col].apply(lambda x: return_val(x))"
   ]
  },
  {
   "cell_type": "code",
   "execution_count": 504,
   "metadata": {},
   "outputs": [
    {
     "data": {
      "text/plain": [
       "0.09"
      ]
     },
     "execution_count": 504,
     "metadata": {},
     "output_type": "execute_result"
    }
   ],
   "source": [
    "df_test.iloc[3,3]"
   ]
  },
  {
   "cell_type": "code",
   "execution_count": 505,
   "metadata": {
    "collapsed": true,
    "scrolled": true
   },
   "outputs": [],
   "source": [
    "# 18 (feature_num) row per group\n",
    "\n",
    "x_test = []\n",
    "for i_group in range(0,len(df_test),feature_num):\n",
    "    \n",
    "#     if i_group>100: break\n",
    "    \n",
    "    start_group = i_group\n",
    "    end_group = start_group + feature_num\n",
    "    \n",
    "    df_group = df_test[start_group:end_group]\n",
    "    \n",
    "#     display(df_group)\n",
    "    x=df_group.iloc[:,2:].values\n",
    "    x_test.append(x)\n",
    "\n",
    "x_test = np.array(x_test)\n",
    "    "
   ]
  },
  {
   "cell_type": "code",
   "execution_count": 506,
   "metadata": {},
   "outputs": [
    {
     "data": {
      "text/plain": [
       "(240, 18, 9)"
      ]
     },
     "execution_count": 506,
     "metadata": {},
     "output_type": "execute_result"
    }
   ],
   "source": [
    "x_test.shape"
   ]
  },
  {
   "cell_type": "code",
   "execution_count": 507,
   "metadata": {},
   "outputs": [
    {
     "data": {
      "text/plain": [
       "(240, 18, 9)"
      ]
     },
     "execution_count": 507,
     "metadata": {},
     "output_type": "execute_result"
    }
   ],
   "source": [
    "x_test.shape"
   ]
  },
  {
   "cell_type": "code",
   "execution_count": 508,
   "metadata": {},
   "outputs": [
    {
     "data": {
      "text/plain": [
       "(240, 162)"
      ]
     },
     "execution_count": 508,
     "metadata": {},
     "output_type": "execute_result"
    }
   ],
   "source": [
    "x_test = x_test.reshape(len(x_test),-1)\n",
    "x_test.shape"
   ]
  },
  {
   "cell_type": "code",
   "execution_count": 509,
   "metadata": {},
   "outputs": [
    {
     "data": {
      "text/plain": [
       "(240, 1)"
      ]
     },
     "execution_count": 509,
     "metadata": {},
     "output_type": "execute_result"
    }
   ],
   "source": [
    "bias_test=np.ones(shape=(len(x_test),1))\n",
    "bias_test.shape"
   ]
  },
  {
   "cell_type": "code",
   "execution_count": 510,
   "metadata": {},
   "outputs": [
    {
     "data": {
      "text/plain": [
       "(240, 163)"
      ]
     },
     "execution_count": 510,
     "metadata": {},
     "output_type": "execute_result"
    }
   ],
   "source": [
    "x_test = np.concatenate([x_test,bias_test],axis=1)\n",
    "x_test.shape"
   ]
  },
  {
   "cell_type": "code",
   "execution_count": 511,
   "metadata": {},
   "outputs": [
    {
     "data": {
      "text/plain": [
       "(163,)"
      ]
     },
     "execution_count": 511,
     "metadata": {},
     "output_type": "execute_result"
    }
   ],
   "source": [
    "w.shape"
   ]
  },
  {
   "cell_type": "code",
   "execution_count": 512,
   "metadata": {},
   "outputs": [
    {
     "data": {
      "text/plain": [
       "(240,)"
      ]
     },
     "execution_count": 512,
     "metadata": {},
     "output_type": "execute_result"
    }
   ],
   "source": [
    "y_test = x_test @ w\n",
    "y_test.shape"
   ]
  },
  {
   "cell_type": "code",
   "execution_count": 513,
   "metadata": {
    "scrolled": true
   },
   "outputs": [
    {
     "data": {
      "text/html": [
       "<div>\n",
       "<style scoped>\n",
       "    .dataframe tbody tr th:only-of-type {\n",
       "        vertical-align: middle;\n",
       "    }\n",
       "\n",
       "    .dataframe tbody tr th {\n",
       "        vertical-align: top;\n",
       "    }\n",
       "\n",
       "    .dataframe thead th {\n",
       "        text-align: right;\n",
       "    }\n",
       "</style>\n",
       "<table border=\"1\" class=\"dataframe\">\n",
       "  <thead>\n",
       "    <tr style=\"text-align: right;\">\n",
       "      <th></th>\n",
       "      <th>0</th>\n",
       "      <th>1</th>\n",
       "      <th>2</th>\n",
       "      <th>3</th>\n",
       "      <th>4</th>\n",
       "      <th>5</th>\n",
       "      <th>6</th>\n",
       "      <th>7</th>\n",
       "      <th>8</th>\n",
       "      <th>y</th>\n",
       "    </tr>\n",
       "  </thead>\n",
       "  <tbody>\n",
       "    <tr>\n",
       "      <th>0</th>\n",
       "      <td>27.0</td>\n",
       "      <td>13.0</td>\n",
       "      <td>24.0</td>\n",
       "      <td>29.0</td>\n",
       "      <td>41.0</td>\n",
       "      <td>30.0</td>\n",
       "      <td>29.0</td>\n",
       "      <td>27.0</td>\n",
       "      <td>28.0</td>\n",
       "      <td>22.237237</td>\n",
       "    </tr>\n",
       "    <tr>\n",
       "      <th>1</th>\n",
       "      <td>46.0</td>\n",
       "      <td>47.0</td>\n",
       "      <td>57.0</td>\n",
       "      <td>78.0</td>\n",
       "      <td>84.0</td>\n",
       "      <td>76.0</td>\n",
       "      <td>59.0</td>\n",
       "      <td>61.0</td>\n",
       "      <td>61.0</td>\n",
       "      <td>62.911587</td>\n",
       "    </tr>\n",
       "    <tr>\n",
       "      <th>2</th>\n",
       "      <td>10.0</td>\n",
       "      <td>10.0</td>\n",
       "      <td>25.0</td>\n",
       "      <td>34.0</td>\n",
       "      <td>40.0</td>\n",
       "      <td>39.0</td>\n",
       "      <td>36.0</td>\n",
       "      <td>25.0</td>\n",
       "      <td>22.0</td>\n",
       "      <td>33.656937</td>\n",
       "    </tr>\n",
       "    <tr>\n",
       "      <th>3</th>\n",
       "      <td>71.0</td>\n",
       "      <td>58.0</td>\n",
       "      <td>51.0</td>\n",
       "      <td>41.0</td>\n",
       "      <td>41.0</td>\n",
       "      <td>46.0</td>\n",
       "      <td>43.0</td>\n",
       "      <td>34.0</td>\n",
       "      <td>29.0</td>\n",
       "      <td>34.352978</td>\n",
       "    </tr>\n",
       "    <tr>\n",
       "      <th>4</th>\n",
       "      <td>13.0</td>\n",
       "      <td>23.0</td>\n",
       "      <td>18.0</td>\n",
       "      <td>10.0</td>\n",
       "      <td>5.0</td>\n",
       "      <td>5.0</td>\n",
       "      <td>13.0</td>\n",
       "      <td>9.0</td>\n",
       "      <td>12.0</td>\n",
       "      <td>10.512915</td>\n",
       "    </tr>\n",
       "    <tr>\n",
       "      <th>5</th>\n",
       "      <td>25.0</td>\n",
       "      <td>32.0</td>\n",
       "      <td>40.0</td>\n",
       "      <td>40.0</td>\n",
       "      <td>31.0</td>\n",
       "      <td>27.0</td>\n",
       "      <td>13.0</td>\n",
       "      <td>24.0</td>\n",
       "      <td>29.0</td>\n",
       "      <td>25.001748</td>\n",
       "    </tr>\n",
       "    <tr>\n",
       "      <th>6</th>\n",
       "      <td>37.0</td>\n",
       "      <td>42.0</td>\n",
       "      <td>65.0</td>\n",
       "      <td>70.0</td>\n",
       "      <td>71.0</td>\n",
       "      <td>58.0</td>\n",
       "      <td>51.0</td>\n",
       "      <td>41.0</td>\n",
       "      <td>41.0</td>\n",
       "      <td>44.396819</td>\n",
       "    </tr>\n",
       "    <tr>\n",
       "      <th>7</th>\n",
       "      <td>17.0</td>\n",
       "      <td>22.0</td>\n",
       "      <td>17.0</td>\n",
       "      <td>9.0</td>\n",
       "      <td>17.0</td>\n",
       "      <td>23.0</td>\n",
       "      <td>29.0</td>\n",
       "      <td>17.0</td>\n",
       "      <td>18.0</td>\n",
       "      <td>18.668087</td>\n",
       "    </tr>\n",
       "    <tr>\n",
       "      <th>8</th>\n",
       "      <td>78.0</td>\n",
       "      <td>84.0</td>\n",
       "      <td>76.0</td>\n",
       "      <td>59.0</td>\n",
       "      <td>61.0</td>\n",
       "      <td>61.0</td>\n",
       "      <td>60.0</td>\n",
       "      <td>49.0</td>\n",
       "      <td>49.0</td>\n",
       "      <td>61.802023</td>\n",
       "    </tr>\n",
       "    <tr>\n",
       "      <th>9</th>\n",
       "      <td>13.0</td>\n",
       "      <td>13.0</td>\n",
       "      <td>18.0</td>\n",
       "      <td>20.0</td>\n",
       "      <td>14.0</td>\n",
       "      <td>9.0</td>\n",
       "      <td>16.0</td>\n",
       "      <td>22.0</td>\n",
       "      <td>35.0</td>\n",
       "      <td>23.049980</td>\n",
       "    </tr>\n",
       "    <tr>\n",
       "      <th>10</th>\n",
       "      <td>27.0</td>\n",
       "      <td>36.0</td>\n",
       "      <td>42.0</td>\n",
       "      <td>32.0</td>\n",
       "      <td>24.0</td>\n",
       "      <td>25.0</td>\n",
       "      <td>32.0</td>\n",
       "      <td>40.0</td>\n",
       "      <td>40.0</td>\n",
       "      <td>32.248930</td>\n",
       "    </tr>\n",
       "    <tr>\n",
       "      <th>11</th>\n",
       "      <td>27.0</td>\n",
       "      <td>18.0</td>\n",
       "      <td>24.0</td>\n",
       "      <td>35.0</td>\n",
       "      <td>45.0</td>\n",
       "      <td>51.0</td>\n",
       "      <td>55.0</td>\n",
       "      <td>60.0</td>\n",
       "      <td>62.0</td>\n",
       "      <td>47.504998</td>\n",
       "    </tr>\n",
       "    <tr>\n",
       "      <th>12</th>\n",
       "      <td>62.0</td>\n",
       "      <td>59.0</td>\n",
       "      <td>55.0</td>\n",
       "      <td>48.0</td>\n",
       "      <td>62.0</td>\n",
       "      <td>60.0</td>\n",
       "      <td>62.0</td>\n",
       "      <td>54.0</td>\n",
       "      <td>41.0</td>\n",
       "      <td>36.665405</td>\n",
       "    </tr>\n",
       "    <tr>\n",
       "      <th>13</th>\n",
       "      <td>44.0</td>\n",
       "      <td>40.0</td>\n",
       "      <td>32.0</td>\n",
       "      <td>24.0</td>\n",
       "      <td>26.0</td>\n",
       "      <td>27.0</td>\n",
       "      <td>18.0</td>\n",
       "      <td>24.0</td>\n",
       "      <td>35.0</td>\n",
       "      <td>22.203791</td>\n",
       "    </tr>\n",
       "    <tr>\n",
       "      <th>14</th>\n",
       "      <td>74.0</td>\n",
       "      <td>80.0</td>\n",
       "      <td>73.0</td>\n",
       "      <td>90.0</td>\n",
       "      <td>79.0</td>\n",
       "      <td>67.0</td>\n",
       "      <td>47.0</td>\n",
       "      <td>34.0</td>\n",
       "      <td>28.0</td>\n",
       "      <td>41.511353</td>\n",
       "    </tr>\n",
       "    <tr>\n",
       "      <th>15</th>\n",
       "      <td>26.0</td>\n",
       "      <td>34.0</td>\n",
       "      <td>29.0</td>\n",
       "      <td>20.0</td>\n",
       "      <td>24.0</td>\n",
       "      <td>16.0</td>\n",
       "      <td>16.0</td>\n",
       "      <td>13.0</td>\n",
       "      <td>12.0</td>\n",
       "      <td>15.418245</td>\n",
       "    </tr>\n",
       "    <tr>\n",
       "      <th>16</th>\n",
       "      <td>28.0</td>\n",
       "      <td>33.0</td>\n",
       "      <td>27.0</td>\n",
       "      <td>37.0</td>\n",
       "      <td>42.0</td>\n",
       "      <td>65.0</td>\n",
       "      <td>70.0</td>\n",
       "      <td>71.0</td>\n",
       "      <td>58.0</td>\n",
       "      <td>50.960152</td>\n",
       "    </tr>\n",
       "    <tr>\n",
       "      <th>17</th>\n",
       "      <td>60.0</td>\n",
       "      <td>49.0</td>\n",
       "      <td>49.0</td>\n",
       "      <td>38.0</td>\n",
       "      <td>41.0</td>\n",
       "      <td>30.0</td>\n",
       "      <td>23.0</td>\n",
       "      <td>19.0</td>\n",
       "      <td>20.0</td>\n",
       "      <td>32.628772</td>\n",
       "    </tr>\n",
       "    <tr>\n",
       "      <th>18</th>\n",
       "      <td>22.0</td>\n",
       "      <td>20.0</td>\n",
       "      <td>20.0</td>\n",
       "      <td>14.0</td>\n",
       "      <td>12.0</td>\n",
       "      <td>16.0</td>\n",
       "      <td>13.0</td>\n",
       "      <td>16.0</td>\n",
       "      <td>16.0</td>\n",
       "      <td>13.707654</td>\n",
       "    </tr>\n",
       "    <tr>\n",
       "      <th>19</th>\n",
       "      <td>30.0</td>\n",
       "      <td>17.0</td>\n",
       "      <td>10.0</td>\n",
       "      <td>5.0</td>\n",
       "      <td>13.0</td>\n",
       "      <td>13.0</td>\n",
       "      <td>13.0</td>\n",
       "      <td>13.0</td>\n",
       "      <td>18.0</td>\n",
       "      <td>16.657002</td>\n",
       "    </tr>\n",
       "    <tr>\n",
       "      <th>20</th>\n",
       "      <td>9.0</td>\n",
       "      <td>1.0</td>\n",
       "      <td>4.0</td>\n",
       "      <td>3.0</td>\n",
       "      <td>1.0</td>\n",
       "      <td>4.0</td>\n",
       "      <td>7.0</td>\n",
       "      <td>15.0</td>\n",
       "      <td>14.0</td>\n",
       "      <td>14.401896</td>\n",
       "    </tr>\n",
       "    <tr>\n",
       "      <th>21</th>\n",
       "      <td>31.0</td>\n",
       "      <td>24.0</td>\n",
       "      <td>17.0</td>\n",
       "      <td>1.0</td>\n",
       "      <td>9.0</td>\n",
       "      <td>23.0</td>\n",
       "      <td>25.0</td>\n",
       "      <td>29.0</td>\n",
       "      <td>25.0</td>\n",
       "      <td>33.543583</td>\n",
       "    </tr>\n",
       "    <tr>\n",
       "      <th>22</th>\n",
       "      <td>54.0</td>\n",
       "      <td>47.0</td>\n",
       "      <td>41.0</td>\n",
       "      <td>39.0</td>\n",
       "      <td>37.0</td>\n",
       "      <td>28.0</td>\n",
       "      <td>28.0</td>\n",
       "      <td>34.0</td>\n",
       "      <td>38.0</td>\n",
       "      <td>38.784382</td>\n",
       "    </tr>\n",
       "    <tr>\n",
       "      <th>23</th>\n",
       "      <td>83.0</td>\n",
       "      <td>83.0</td>\n",
       "      <td>85.0</td>\n",
       "      <td>65.0</td>\n",
       "      <td>47.0</td>\n",
       "      <td>30.0</td>\n",
       "      <td>20.0</td>\n",
       "      <td>13.0</td>\n",
       "      <td>7.0</td>\n",
       "      <td>28.050709</td>\n",
       "    </tr>\n",
       "    <tr>\n",
       "      <th>24</th>\n",
       "      <td>39.0</td>\n",
       "      <td>57.0</td>\n",
       "      <td>63.0</td>\n",
       "      <td>54.0</td>\n",
       "      <td>45.0</td>\n",
       "      <td>39.0</td>\n",
       "      <td>49.0</td>\n",
       "      <td>55.0</td>\n",
       "      <td>62.0</td>\n",
       "      <td>54.111118</td>\n",
       "    </tr>\n",
       "    <tr>\n",
       "      <th>25</th>\n",
       "      <td>14.0</td>\n",
       "      <td>14.0</td>\n",
       "      <td>6.0</td>\n",
       "      <td>4.0</td>\n",
       "      <td>6.0</td>\n",
       "      <td>16.0</td>\n",
       "      <td>31.0</td>\n",
       "      <td>36.0</td>\n",
       "      <td>48.0</td>\n",
       "      <td>25.777351</td>\n",
       "    </tr>\n",
       "    <tr>\n",
       "      <th>26</th>\n",
       "      <td>12.0</td>\n",
       "      <td>16.0</td>\n",
       "      <td>24.0</td>\n",
       "      <td>17.0</td>\n",
       "      <td>8.0</td>\n",
       "      <td>11.0</td>\n",
       "      <td>19.0</td>\n",
       "      <td>30.0</td>\n",
       "      <td>29.0</td>\n",
       "      <td>16.507660</td>\n",
       "    </tr>\n",
       "    <tr>\n",
       "      <th>27</th>\n",
       "      <td>11.0</td>\n",
       "      <td>19.0</td>\n",
       "      <td>30.0</td>\n",
       "      <td>29.0</td>\n",
       "      <td>26.0</td>\n",
       "      <td>16.0</td>\n",
       "      <td>14.0</td>\n",
       "      <td>9.0</td>\n",
       "      <td>9.0</td>\n",
       "      <td>14.301041</td>\n",
       "    </tr>\n",
       "    <tr>\n",
       "      <th>28</th>\n",
       "      <td>17.0</td>\n",
       "      <td>1.0</td>\n",
       "      <td>9.0</td>\n",
       "      <td>23.0</td>\n",
       "      <td>25.0</td>\n",
       "      <td>29.0</td>\n",
       "      <td>25.0</td>\n",
       "      <td>31.0</td>\n",
       "      <td>29.0</td>\n",
       "      <td>34.849368</td>\n",
       "    </tr>\n",
       "    <tr>\n",
       "      <th>29</th>\n",
       "      <td>18.0</td>\n",
       "      <td>14.0</td>\n",
       "      <td>14.0</td>\n",
       "      <td>6.0</td>\n",
       "      <td>4.0</td>\n",
       "      <td>6.0</td>\n",
       "      <td>16.0</td>\n",
       "      <td>31.0</td>\n",
       "      <td>36.0</td>\n",
       "      <td>19.221300</td>\n",
       "    </tr>\n",
       "    <tr>\n",
       "      <th>...</th>\n",
       "      <td>...</td>\n",
       "      <td>...</td>\n",
       "      <td>...</td>\n",
       "      <td>...</td>\n",
       "      <td>...</td>\n",
       "      <td>...</td>\n",
       "      <td>...</td>\n",
       "      <td>...</td>\n",
       "      <td>...</td>\n",
       "      <td>...</td>\n",
       "    </tr>\n",
       "    <tr>\n",
       "      <th>210</th>\n",
       "      <td>62.0</td>\n",
       "      <td>34.0</td>\n",
       "      <td>32.0</td>\n",
       "      <td>35.0</td>\n",
       "      <td>36.0</td>\n",
       "      <td>25.0</td>\n",
       "      <td>31.0</td>\n",
       "      <td>30.0</td>\n",
       "      <td>34.0</td>\n",
       "      <td>31.822868</td>\n",
       "    </tr>\n",
       "    <tr>\n",
       "      <th>211</th>\n",
       "      <td>49.0</td>\n",
       "      <td>66.0</td>\n",
       "      <td>93.0</td>\n",
       "      <td>106.0</td>\n",
       "      <td>111.0</td>\n",
       "      <td>96.0</td>\n",
       "      <td>84.0</td>\n",
       "      <td>79.0</td>\n",
       "      <td>75.0</td>\n",
       "      <td>60.042533</td>\n",
       "    </tr>\n",
       "    <tr>\n",
       "      <th>212</th>\n",
       "      <td>11.0</td>\n",
       "      <td>11.0</td>\n",
       "      <td>11.0</td>\n",
       "      <td>15.0</td>\n",
       "      <td>20.0</td>\n",
       "      <td>25.0</td>\n",
       "      <td>31.0</td>\n",
       "      <td>26.0</td>\n",
       "      <td>24.0</td>\n",
       "      <td>22.783592</td>\n",
       "    </tr>\n",
       "    <tr>\n",
       "      <th>213</th>\n",
       "      <td>183.0</td>\n",
       "      <td>159.0</td>\n",
       "      <td>142.0</td>\n",
       "      <td>121.0</td>\n",
       "      <td>137.0</td>\n",
       "      <td>152.0</td>\n",
       "      <td>165.0</td>\n",
       "      <td>154.0</td>\n",
       "      <td>131.0</td>\n",
       "      <td>96.881257</td>\n",
       "    </tr>\n",
       "    <tr>\n",
       "      <th>214</th>\n",
       "      <td>5.0</td>\n",
       "      <td>1.0</td>\n",
       "      <td>6.0</td>\n",
       "      <td>11.0</td>\n",
       "      <td>9.0</td>\n",
       "      <td>18.0</td>\n",
       "      <td>21.0</td>\n",
       "      <td>35.0</td>\n",
       "      <td>39.0</td>\n",
       "      <td>28.617583</td>\n",
       "    </tr>\n",
       "    <tr>\n",
       "      <th>215</th>\n",
       "      <td>31.0</td>\n",
       "      <td>43.0</td>\n",
       "      <td>102.0</td>\n",
       "      <td>102.0</td>\n",
       "      <td>136.0</td>\n",
       "      <td>120.0</td>\n",
       "      <td>118.0</td>\n",
       "      <td>94.0</td>\n",
       "      <td>89.0</td>\n",
       "      <td>72.965546</td>\n",
       "    </tr>\n",
       "    <tr>\n",
       "      <th>216</th>\n",
       "      <td>36.0</td>\n",
       "      <td>25.0</td>\n",
       "      <td>31.0</td>\n",
       "      <td>30.0</td>\n",
       "      <td>34.0</td>\n",
       "      <td>40.0</td>\n",
       "      <td>49.0</td>\n",
       "      <td>66.0</td>\n",
       "      <td>93.0</td>\n",
       "      <td>58.652848</td>\n",
       "    </tr>\n",
       "    <tr>\n",
       "      <th>217</th>\n",
       "      <td>48.0</td>\n",
       "      <td>60.0</td>\n",
       "      <td>68.0</td>\n",
       "      <td>63.0</td>\n",
       "      <td>71.0</td>\n",
       "      <td>63.0</td>\n",
       "      <td>65.0</td>\n",
       "      <td>62.0</td>\n",
       "      <td>73.0</td>\n",
       "      <td>53.282075</td>\n",
       "    </tr>\n",
       "    <tr>\n",
       "      <th>218</th>\n",
       "      <td>24.0</td>\n",
       "      <td>14.0</td>\n",
       "      <td>8.0</td>\n",
       "      <td>0.0</td>\n",
       "      <td>4.0</td>\n",
       "      <td>19.0</td>\n",
       "      <td>34.0</td>\n",
       "      <td>42.0</td>\n",
       "      <td>33.0</td>\n",
       "      <td>35.967398</td>\n",
       "    </tr>\n",
       "    <tr>\n",
       "      <th>219</th>\n",
       "      <td>62.0</td>\n",
       "      <td>73.0</td>\n",
       "      <td>88.0</td>\n",
       "      <td>88.0</td>\n",
       "      <td>70.0</td>\n",
       "      <td>57.0</td>\n",
       "      <td>52.0</td>\n",
       "      <td>44.0</td>\n",
       "      <td>24.0</td>\n",
       "      <td>37.669158</td>\n",
       "    </tr>\n",
       "    <tr>\n",
       "      <th>220</th>\n",
       "      <td>25.0</td>\n",
       "      <td>37.0</td>\n",
       "      <td>41.0</td>\n",
       "      <td>43.0</td>\n",
       "      <td>49.0</td>\n",
       "      <td>50.0</td>\n",
       "      <td>43.0</td>\n",
       "      <td>40.0</td>\n",
       "      <td>31.0</td>\n",
       "      <td>37.653990</td>\n",
       "    </tr>\n",
       "    <tr>\n",
       "      <th>221</th>\n",
       "      <td>56.0</td>\n",
       "      <td>72.0</td>\n",
       "      <td>69.0</td>\n",
       "      <td>65.0</td>\n",
       "      <td>71.0</td>\n",
       "      <td>87.0</td>\n",
       "      <td>82.0</td>\n",
       "      <td>74.0</td>\n",
       "      <td>57.0</td>\n",
       "      <td>68.464313</td>\n",
       "    </tr>\n",
       "    <tr>\n",
       "      <th>222</th>\n",
       "      <td>26.0</td>\n",
       "      <td>32.0</td>\n",
       "      <td>37.0</td>\n",
       "      <td>29.0</td>\n",
       "      <td>27.0</td>\n",
       "      <td>23.0</td>\n",
       "      <td>26.0</td>\n",
       "      <td>24.0</td>\n",
       "      <td>29.0</td>\n",
       "      <td>26.794009</td>\n",
       "    </tr>\n",
       "    <tr>\n",
       "      <th>223</th>\n",
       "      <td>2.0</td>\n",
       "      <td>0.0</td>\n",
       "      <td>9.0</td>\n",
       "      <td>24.0</td>\n",
       "      <td>44.0</td>\n",
       "      <td>33.0</td>\n",
       "      <td>39.0</td>\n",
       "      <td>29.0</td>\n",
       "      <td>45.0</td>\n",
       "      <td>30.140929</td>\n",
       "    </tr>\n",
       "    <tr>\n",
       "      <th>224</th>\n",
       "      <td>65.0</td>\n",
       "      <td>64.0</td>\n",
       "      <td>62.0</td>\n",
       "      <td>50.0</td>\n",
       "      <td>45.0</td>\n",
       "      <td>47.0</td>\n",
       "      <td>56.0</td>\n",
       "      <td>57.0</td>\n",
       "      <td>49.0</td>\n",
       "      <td>45.633923</td>\n",
       "    </tr>\n",
       "    <tr>\n",
       "      <th>225</th>\n",
       "      <td>29.0</td>\n",
       "      <td>16.0</td>\n",
       "      <td>13.0</td>\n",
       "      <td>2.0</td>\n",
       "      <td>0.0</td>\n",
       "      <td>4.0</td>\n",
       "      <td>4.0</td>\n",
       "      <td>9.0</td>\n",
       "      <td>5.0</td>\n",
       "      <td>9.976798</td>\n",
       "    </tr>\n",
       "    <tr>\n",
       "      <th>226</th>\n",
       "      <td>33.0</td>\n",
       "      <td>39.0</td>\n",
       "      <td>29.0</td>\n",
       "      <td>45.0</td>\n",
       "      <td>27.0</td>\n",
       "      <td>24.0</td>\n",
       "      <td>10.0</td>\n",
       "      <td>10.0</td>\n",
       "      <td>3.0</td>\n",
       "      <td>20.067398</td>\n",
       "    </tr>\n",
       "    <tr>\n",
       "      <th>227</th>\n",
       "      <td>18.0</td>\n",
       "      <td>20.0</td>\n",
       "      <td>27.0</td>\n",
       "      <td>39.0</td>\n",
       "      <td>41.0</td>\n",
       "      <td>37.0</td>\n",
       "      <td>42.0</td>\n",
       "      <td>56.0</td>\n",
       "      <td>72.0</td>\n",
       "      <td>54.975359</td>\n",
       "    </tr>\n",
       "    <tr>\n",
       "      <th>228</th>\n",
       "      <td>33.0</td>\n",
       "      <td>29.0</td>\n",
       "      <td>17.0</td>\n",
       "      <td>11.0</td>\n",
       "      <td>13.0</td>\n",
       "      <td>24.0</td>\n",
       "      <td>23.0</td>\n",
       "      <td>27.0</td>\n",
       "      <td>26.0</td>\n",
       "      <td>29.212283</td>\n",
       "    </tr>\n",
       "    <tr>\n",
       "      <th>229</th>\n",
       "      <td>6.0</td>\n",
       "      <td>10.0</td>\n",
       "      <td>11.0</td>\n",
       "      <td>13.0</td>\n",
       "      <td>5.0</td>\n",
       "      <td>3.0</td>\n",
       "      <td>0.0</td>\n",
       "      <td>0.0</td>\n",
       "      <td>0.0</td>\n",
       "      <td>4.618874</td>\n",
       "    </tr>\n",
       "    <tr>\n",
       "      <th>230</th>\n",
       "      <td>-1.0</td>\n",
       "      <td>28.0</td>\n",
       "      <td>41.0</td>\n",
       "      <td>39.0</td>\n",
       "      <td>45.0</td>\n",
       "      <td>39.0</td>\n",
       "      <td>37.0</td>\n",
       "      <td>39.0</td>\n",
       "      <td>39.0</td>\n",
       "      <td>33.125378</td>\n",
       "    </tr>\n",
       "    <tr>\n",
       "      <th>231</th>\n",
       "      <td>13.0</td>\n",
       "      <td>9.0</td>\n",
       "      <td>15.0</td>\n",
       "      <td>20.0</td>\n",
       "      <td>26.0</td>\n",
       "      <td>23.0</td>\n",
       "      <td>18.0</td>\n",
       "      <td>11.0</td>\n",
       "      <td>14.0</td>\n",
       "      <td>15.128313</td>\n",
       "    </tr>\n",
       "    <tr>\n",
       "      <th>232</th>\n",
       "      <td>15.0</td>\n",
       "      <td>20.0</td>\n",
       "      <td>26.0</td>\n",
       "      <td>23.0</td>\n",
       "      <td>18.0</td>\n",
       "      <td>11.0</td>\n",
       "      <td>14.0</td>\n",
       "      <td>11.0</td>\n",
       "      <td>22.0</td>\n",
       "      <td>16.756225</td>\n",
       "    </tr>\n",
       "    <tr>\n",
       "      <th>233</th>\n",
       "      <td>43.0</td>\n",
       "      <td>40.0</td>\n",
       "      <td>31.0</td>\n",
       "      <td>29.0</td>\n",
       "      <td>16.0</td>\n",
       "      <td>13.0</td>\n",
       "      <td>2.0</td>\n",
       "      <td>0.0</td>\n",
       "      <td>4.0</td>\n",
       "      <td>14.960693</td>\n",
       "    </tr>\n",
       "    <tr>\n",
       "      <th>234</th>\n",
       "      <td>0.0</td>\n",
       "      <td>7.0</td>\n",
       "      <td>16.0</td>\n",
       "      <td>16.0</td>\n",
       "      <td>17.0</td>\n",
       "      <td>17.0</td>\n",
       "      <td>28.0</td>\n",
       "      <td>22.0</td>\n",
       "      <td>17.0</td>\n",
       "      <td>17.714373</td>\n",
       "    </tr>\n",
       "    <tr>\n",
       "      <th>235</th>\n",
       "      <td>7.0</td>\n",
       "      <td>13.0</td>\n",
       "      <td>6.0</td>\n",
       "      <td>12.0</td>\n",
       "      <td>5.0</td>\n",
       "      <td>6.0</td>\n",
       "      <td>6.0</td>\n",
       "      <td>14.0</td>\n",
       "      <td>21.0</td>\n",
       "      <td>23.929990</td>\n",
       "    </tr>\n",
       "    <tr>\n",
       "      <th>236</th>\n",
       "      <td>2.0</td>\n",
       "      <td>0.0</td>\n",
       "      <td>4.0</td>\n",
       "      <td>4.0</td>\n",
       "      <td>9.0</td>\n",
       "      <td>5.0</td>\n",
       "      <td>13.0</td>\n",
       "      <td>9.0</td>\n",
       "      <td>15.0</td>\n",
       "      <td>14.291792</td>\n",
       "    </tr>\n",
       "    <tr>\n",
       "      <th>237</th>\n",
       "      <td>16.0</td>\n",
       "      <td>25.0</td>\n",
       "      <td>12.0</td>\n",
       "      <td>8.0</td>\n",
       "      <td>7.0</td>\n",
       "      <td>11.0</td>\n",
       "      <td>11.0</td>\n",
       "      <td>3.0</td>\n",
       "      <td>0.0</td>\n",
       "      <td>8.226615</td>\n",
       "    </tr>\n",
       "    <tr>\n",
       "      <th>238</th>\n",
       "      <td>29.0</td>\n",
       "      <td>27.0</td>\n",
       "      <td>23.0</td>\n",
       "      <td>26.0</td>\n",
       "      <td>24.0</td>\n",
       "      <td>29.0</td>\n",
       "      <td>35.0</td>\n",
       "      <td>35.0</td>\n",
       "      <td>26.0</td>\n",
       "      <td>24.771304</td>\n",
       "    </tr>\n",
       "    <tr>\n",
       "      <th>239</th>\n",
       "      <td>12.0</td>\n",
       "      <td>8.0</td>\n",
       "      <td>7.0</td>\n",
       "      <td>11.0</td>\n",
       "      <td>11.0</td>\n",
       "      <td>3.0</td>\n",
       "      <td>0.0</td>\n",
       "      <td>0.0</td>\n",
       "      <td>0.0</td>\n",
       "      <td>13.813201</td>\n",
       "    </tr>\n",
       "  </tbody>\n",
       "</table>\n",
       "<p>240 rows × 10 columns</p>\n",
       "</div>"
      ],
      "text/plain": [
       "         0      1      2      3      4      5      6      7      8          y\n",
       "0     27.0   13.0   24.0   29.0   41.0   30.0   29.0   27.0   28.0  22.237237\n",
       "1     46.0   47.0   57.0   78.0   84.0   76.0   59.0   61.0   61.0  62.911587\n",
       "2     10.0   10.0   25.0   34.0   40.0   39.0   36.0   25.0   22.0  33.656937\n",
       "3     71.0   58.0   51.0   41.0   41.0   46.0   43.0   34.0   29.0  34.352978\n",
       "4     13.0   23.0   18.0   10.0    5.0    5.0   13.0    9.0   12.0  10.512915\n",
       "5     25.0   32.0   40.0   40.0   31.0   27.0   13.0   24.0   29.0  25.001748\n",
       "6     37.0   42.0   65.0   70.0   71.0   58.0   51.0   41.0   41.0  44.396819\n",
       "7     17.0   22.0   17.0    9.0   17.0   23.0   29.0   17.0   18.0  18.668087\n",
       "8     78.0   84.0   76.0   59.0   61.0   61.0   60.0   49.0   49.0  61.802023\n",
       "9     13.0   13.0   18.0   20.0   14.0    9.0   16.0   22.0   35.0  23.049980\n",
       "10    27.0   36.0   42.0   32.0   24.0   25.0   32.0   40.0   40.0  32.248930\n",
       "11    27.0   18.0   24.0   35.0   45.0   51.0   55.0   60.0   62.0  47.504998\n",
       "12    62.0   59.0   55.0   48.0   62.0   60.0   62.0   54.0   41.0  36.665405\n",
       "13    44.0   40.0   32.0   24.0   26.0   27.0   18.0   24.0   35.0  22.203791\n",
       "14    74.0   80.0   73.0   90.0   79.0   67.0   47.0   34.0   28.0  41.511353\n",
       "15    26.0   34.0   29.0   20.0   24.0   16.0   16.0   13.0   12.0  15.418245\n",
       "16    28.0   33.0   27.0   37.0   42.0   65.0   70.0   71.0   58.0  50.960152\n",
       "17    60.0   49.0   49.0   38.0   41.0   30.0   23.0   19.0   20.0  32.628772\n",
       "18    22.0   20.0   20.0   14.0   12.0   16.0   13.0   16.0   16.0  13.707654\n",
       "19    30.0   17.0   10.0    5.0   13.0   13.0   13.0   13.0   18.0  16.657002\n",
       "20     9.0    1.0    4.0    3.0    1.0    4.0    7.0   15.0   14.0  14.401896\n",
       "21    31.0   24.0   17.0    1.0    9.0   23.0   25.0   29.0   25.0  33.543583\n",
       "22    54.0   47.0   41.0   39.0   37.0   28.0   28.0   34.0   38.0  38.784382\n",
       "23    83.0   83.0   85.0   65.0   47.0   30.0   20.0   13.0    7.0  28.050709\n",
       "24    39.0   57.0   63.0   54.0   45.0   39.0   49.0   55.0   62.0  54.111118\n",
       "25    14.0   14.0    6.0    4.0    6.0   16.0   31.0   36.0   48.0  25.777351\n",
       "26    12.0   16.0   24.0   17.0    8.0   11.0   19.0   30.0   29.0  16.507660\n",
       "27    11.0   19.0   30.0   29.0   26.0   16.0   14.0    9.0    9.0  14.301041\n",
       "28    17.0    1.0    9.0   23.0   25.0   29.0   25.0   31.0   29.0  34.849368\n",
       "29    18.0   14.0   14.0    6.0    4.0    6.0   16.0   31.0   36.0  19.221300\n",
       "..     ...    ...    ...    ...    ...    ...    ...    ...    ...        ...\n",
       "210   62.0   34.0   32.0   35.0   36.0   25.0   31.0   30.0   34.0  31.822868\n",
       "211   49.0   66.0   93.0  106.0  111.0   96.0   84.0   79.0   75.0  60.042533\n",
       "212   11.0   11.0   11.0   15.0   20.0   25.0   31.0   26.0   24.0  22.783592\n",
       "213  183.0  159.0  142.0  121.0  137.0  152.0  165.0  154.0  131.0  96.881257\n",
       "214    5.0    1.0    6.0   11.0    9.0   18.0   21.0   35.0   39.0  28.617583\n",
       "215   31.0   43.0  102.0  102.0  136.0  120.0  118.0   94.0   89.0  72.965546\n",
       "216   36.0   25.0   31.0   30.0   34.0   40.0   49.0   66.0   93.0  58.652848\n",
       "217   48.0   60.0   68.0   63.0   71.0   63.0   65.0   62.0   73.0  53.282075\n",
       "218   24.0   14.0    8.0    0.0    4.0   19.0   34.0   42.0   33.0  35.967398\n",
       "219   62.0   73.0   88.0   88.0   70.0   57.0   52.0   44.0   24.0  37.669158\n",
       "220   25.0   37.0   41.0   43.0   49.0   50.0   43.0   40.0   31.0  37.653990\n",
       "221   56.0   72.0   69.0   65.0   71.0   87.0   82.0   74.0   57.0  68.464313\n",
       "222   26.0   32.0   37.0   29.0   27.0   23.0   26.0   24.0   29.0  26.794009\n",
       "223    2.0    0.0    9.0   24.0   44.0   33.0   39.0   29.0   45.0  30.140929\n",
       "224   65.0   64.0   62.0   50.0   45.0   47.0   56.0   57.0   49.0  45.633923\n",
       "225   29.0   16.0   13.0    2.0    0.0    4.0    4.0    9.0    5.0   9.976798\n",
       "226   33.0   39.0   29.0   45.0   27.0   24.0   10.0   10.0    3.0  20.067398\n",
       "227   18.0   20.0   27.0   39.0   41.0   37.0   42.0   56.0   72.0  54.975359\n",
       "228   33.0   29.0   17.0   11.0   13.0   24.0   23.0   27.0   26.0  29.212283\n",
       "229    6.0   10.0   11.0   13.0    5.0    3.0    0.0    0.0    0.0   4.618874\n",
       "230   -1.0   28.0   41.0   39.0   45.0   39.0   37.0   39.0   39.0  33.125378\n",
       "231   13.0    9.0   15.0   20.0   26.0   23.0   18.0   11.0   14.0  15.128313\n",
       "232   15.0   20.0   26.0   23.0   18.0   11.0   14.0   11.0   22.0  16.756225\n",
       "233   43.0   40.0   31.0   29.0   16.0   13.0    2.0    0.0    4.0  14.960693\n",
       "234    0.0    7.0   16.0   16.0   17.0   17.0   28.0   22.0   17.0  17.714373\n",
       "235    7.0   13.0    6.0   12.0    5.0    6.0    6.0   14.0   21.0  23.929990\n",
       "236    2.0    0.0    4.0    4.0    9.0    5.0   13.0    9.0   15.0  14.291792\n",
       "237   16.0   25.0   12.0    8.0    7.0   11.0   11.0    3.0    0.0   8.226615\n",
       "238   29.0   27.0   23.0   26.0   24.0   29.0   35.0   35.0   26.0  24.771304\n",
       "239   12.0    8.0    7.0   11.0   11.0    3.0    0.0    0.0    0.0  13.813201\n",
       "\n",
       "[240 rows x 10 columns]"
      ]
     },
     "execution_count": 513,
     "metadata": {},
     "output_type": "execute_result"
    }
   ],
   "source": [
    "a=pd.DataFrame(x_test[:,81:81+9])\n",
    "a['y'] = y_test\n",
    "a"
   ]
  },
  {
   "cell_type": "code",
   "execution_count": null,
   "metadata": {
    "collapsed": true
   },
   "outputs": [],
   "source": []
  },
  {
   "cell_type": "code",
   "execution_count": null,
   "metadata": {
    "collapsed": true
   },
   "outputs": [],
   "source": []
  },
  {
   "cell_type": "code",
   "execution_count": null,
   "metadata": {
    "collapsed": true
   },
   "outputs": [],
   "source": []
  },
  {
   "cell_type": "code",
   "execution_count": null,
   "metadata": {
    "collapsed": true
   },
   "outputs": [],
   "source": []
  },
  {
   "cell_type": "code",
   "execution_count": null,
   "metadata": {
    "collapsed": true
   },
   "outputs": [],
   "source": []
  },
  {
   "cell_type": "code",
   "execution_count": null,
   "metadata": {
    "collapsed": true
   },
   "outputs": [],
   "source": []
  }
 ],
 "metadata": {
  "kernelspec": {
   "display_name": "Python 3",
   "language": "python",
   "name": "python3"
  },
  "language_info": {
   "codemirror_mode": {
    "name": "ipython",
    "version": 3
   },
   "file_extension": ".py",
   "mimetype": "text/x-python",
   "name": "python",
   "nbconvert_exporter": "python",
   "pygments_lexer": "ipython3",
   "version": "3.6.5"
  }
 },
 "nbformat": 4,
 "nbformat_minor": 2
}
