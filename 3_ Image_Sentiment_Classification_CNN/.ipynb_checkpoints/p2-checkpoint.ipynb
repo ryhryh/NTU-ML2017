{
 "cells": [
  {
   "cell_type": "code",
   "execution_count": 9,
   "metadata": {},
   "outputs": [],
   "source": [
    "import numpy as np\n",
    "import pandas as pd\n",
    "from keras.utils.np_utils import to_categorical\n",
    "from keras.models import Sequential\n",
    "from keras.layers import Input,Dense,Dropout,Flatten,Activation,LeakyReLU\n",
    "from keras.layers import Convolution2D,MaxPooling2D\n",
    "from keras.layers import Conv1D, Conv2D\n",
    "from keras.layers.normalization import BatchNormalization\n",
    "\n",
    "from keras.optimizers import SGD\n",
    "import keras\n",
    "import matplotlib.pylab as plt\n"
   ]
  },
  {
   "cell_type": "code",
   "execution_count": 10,
   "metadata": {},
   "outputs": [],
   "source": [
    "path = '/data1/home/feynman52/NTU_ML_HW/hw3/data/'\n",
    "\n",
    "df_train = pd.read_csv(path+'train.csv')\n",
    "df_test = pd.read_csv(path+'test.csv')\n"
   ]
  },
  {
   "cell_type": "code",
   "execution_count": null,
   "metadata": {},
   "outputs": [],
   "source": [
    "y_train = df_train['label']\n",
    "y_train=to_categorical(y_train,num_classes=7)\n",
    "\n",
    "x_train = df_train['feature']\n",
    "x_train = x_train.str.split()\n",
    "x_train = x_train.values\n",
    "x_train = [np.array(x,dtype=np.int32) for x in x_train]\n",
    "x_train = np.array(x_train)\n",
    "\n",
    "print(x_train.shape)\n",
    "print(y_train.shape)\n"
   ]
  },
  {
   "cell_type": "code",
   "execution_count": null,
   "metadata": {},
   "outputs": [],
   "source": [
    "x_test = df_test['feature']\n",
    "x_test = x_test.str.split()\n",
    "x_test = x_test.values\n",
    "x_test = [np.array(x,dtype=np.int32) for x in x_test]\n",
    "x_test = np.array(x_test)\n",
    "\n",
    "print(x_test.shape)"
   ]
  },
  {
   "cell_type": "code",
   "execution_count": null,
   "metadata": {},
   "outputs": [],
   "source": [
    "x_train = np.reshape(x_train,(28709,48,48,1))\n",
    "print(x_train.shape)\n",
    "x_test = np.reshape(x_test,(7178,48,48,1))\n",
    "print(x_test.shape)"
   ]
  },
  {
   "cell_type": "code",
   "execution_count": null,
   "metadata": {},
   "outputs": [],
   "source": [
    "\n",
    "input_shape = (48,48,1)\n",
    "model = Sequential()\n",
    "model.add(Conv2D(64,input_shape=input_shape, kernel_size=(5, 5), padding='same', kernel_initializer='glorot_normal'))\n",
    "model.add(LeakyReLU(alpha=1./20))\n",
    "model.add(BatchNormalization())\n",
    "model.add(MaxPooling2D(pool_size=(2, 2), padding='same'))\n",
    "model.add(Dropout(0.25))\n",
    "\n",
    "model.add(Conv2D(128, kernel_size=(3, 3), padding='same', kernel_initializer='glorot_normal'))\n",
    "model.add(LeakyReLU(alpha=1./20))\n",
    "model.add(BatchNormalization())\n",
    "model.add(MaxPooling2D(pool_size=(2, 2), padding='same'))\n",
    "model.add(Dropout(0.3))\n",
    "\n",
    "model.add(Conv2D(512, kernel_size=(3, 3), padding='same', kernel_initializer='glorot_normal'))\n",
    "model.add(LeakyReLU(alpha=1./20))\n",
    "model.add(BatchNormalization())\n",
    "model.add(MaxPooling2D(pool_size=(2, 2), padding='same'))\n",
    "model.add(Dropout(0.35))\n",
    "\n",
    "model.add(Conv2D(512, kernel_size=(3, 3), padding='same', kernel_initializer='glorot_normal'))\n",
    "model.add(LeakyReLU(alpha=1./20))\n",
    "model.add(BatchNormalization())\n",
    "model.add(MaxPooling2D(pool_size=(2, 2), padding='same'))\n",
    "model.add(Dropout(0.35))\n",
    "\n",
    "model.add(Flatten())\n",
    "\n",
    "model.add(Dense(512, activation='relu', kernel_initializer='glorot_normal'))\n",
    "model.add(BatchNormalization())\n",
    "model.add(Dropout(0.5))\n",
    "model.add(Dense(512, activation='relu', kernel_initializer='glorot_normal'))\n",
    "model.add(BatchNormalization())\n",
    "model.add(Dropout(0.5))\n",
    "model.add(Dense(7, activation='softmax', kernel_initializer='glorot_normal'))\n",
    "\n",
    "model.compile(loss='categorical_crossentropy', optimizer='adam', metrics=['accuracy'])"
   ]
  },
  {
   "cell_type": "code",
   "execution_count": null,
   "metadata": {},
   "outputs": [],
   "source": [
    "# model = Sequential()\n",
    "# # CNN part (you can repeat this part several times)\n",
    "# model.add( Convolution2D(8,3,3,border_mode='valid',input_shape=(48,48,1)) )\n",
    "# model.add(Activation('relu'))\n",
    "# model.add( MaxPooling2D(pool_size=(2, 2)) )\n",
    "# model.add(Dropout(0.2))\n",
    "\n",
    "# # Fully connected part\n",
    "# model.add(Flatten())\n",
    "# model.add(Dense(16))\n",
    "# model.add(Activation('relu'))\n",
    "# model.add(Dense(7))\n",
    "# model.add(Activation('softmax'))\n",
    "\n",
    "# opt = SGD(lr=0.01,decay=0.0)\n",
    "# model.compile(loss='categorical_crossentropy',\n",
    "#               optimizer=opt,\n",
    "#               metrics=['accuracy'])\n",
    "\n"
   ]
  },
  {
   "cell_type": "code",
   "execution_count": null,
   "metadata": {},
   "outputs": [],
   "source": [
    "model.summary()"
   ]
  },
  {
   "cell_type": "code",
   "execution_count": null,
   "metadata": {},
   "outputs": [],
   "source": [
    "class History(keras.callbacks.Callback):\n",
    "    def on_train_begin(self,logs={}):\n",
    "        self.tr_losses=[]\n",
    "        self.val_losses=[]\n",
    "        self.tr_accs=[]\n",
    "        self.val_accs=[]\n",
    "\n",
    "    def on_epoch_end(self,epoch,logs={}):\n",
    "        self.tr_losses.append(logs.get('loss'))\n",
    "        self.val_losses.append(logs.get('val_loss'))\n",
    "        self.tr_accs.append(logs.get('acc'))\n",
    "        self.val_accs.append(logs.get('val_acc'))\n",
    "time_callback = History()"
   ]
  },
  {
   "cell_type": "code",
   "execution_count": null,
   "metadata": {},
   "outputs": [],
   "source": [
    "batch_size = 128\n",
    "epochs = 400\n",
    "\n",
    "history = model.fit(x = x_train,\n",
    "                   y = y_train,\n",
    "                   batch_size=batch_size,\n",
    "                   epochs=epochs,\n",
    "#                        validation_data=(dev_feats,dev_labels),\n",
    "                   callbacks=[time_callback])"
   ]
  },
  {
   "cell_type": "code",
   "execution_count": null,
   "metadata": {},
   "outputs": [],
   "source": [
    "# plot\n",
    "plt.plot(history.history['acc'])\n",
    "# plt.plot(history.history['val_loss'])\n",
    "plt.title('model loss')\n",
    "plt.ylabel('acc')\n",
    "plt.xlabel('epoch')\n",
    "# plt.legend(['train', 'val'], loc='upper right')\n",
    "\n",
    "# fileName = dirName +'_'+ 'loss.png'\n",
    "# path = dirName +'/'+ fileName\n",
    "# plt.savefig(path)\n",
    "\n",
    "plt.show()"
   ]
  }
 ],
 "metadata": {
  "kernelspec": {
   "display_name": "Python 3",
   "language": "python",
   "name": "python3"
  },
  "language_info": {
   "codemirror_mode": {
    "name": "ipython",
    "version": 3
   },
   "file_extension": ".py",
   "mimetype": "text/x-python",
   "name": "python",
   "nbconvert_exporter": "python",
   "pygments_lexer": "ipython3",
   "version": "3.6.5"
  }
 },
 "nbformat": 4,
 "nbformat_minor": 2
}
