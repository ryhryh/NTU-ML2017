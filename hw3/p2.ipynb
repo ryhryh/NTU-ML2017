{
 "cells": [
  {
   "cell_type": "code",
   "execution_count": 2,
   "metadata": {},
   "outputs": [
    {
     "name": "stderr",
     "output_type": "stream",
     "text": [
      "Using TensorFlow backend.\n"
     ]
    }
   ],
   "source": [
    "import numpy as np\n",
    "import pandas as pd\n",
    "from keras.utils.np_utils import to_categorical\n",
    "from keras.models import Sequential\n",
    "from keras.layers import Input,Dense,Dropout,Flatten,Activation,LeakyReLU\n",
    "from keras.layers import Convolution2D,MaxPooling2D\n",
    "from keras.layers import Conv1D, Conv2D\n",
    "from keras.layers.normalization import BatchNormalization\n",
    "\n",
    "from keras.optimizers import SGD\n",
    "import keras\n",
    "import matplotlib.pylab as plt\n"
   ]
  },
  {
   "cell_type": "code",
   "execution_count": 4,
   "metadata": {},
   "outputs": [],
   "source": [
    "path = '/data1/home/feynman52/ntu-ml/hw3/data/'\n",
    "\n",
    "df_train = pd.read_csv(path+'train.csv')\n",
    "df_test = pd.read_csv(path+'test.csv')\n"
   ]
  },
  {
   "cell_type": "code",
   "execution_count": 5,
   "metadata": {},
   "outputs": [
    {
     "name": "stdout",
     "output_type": "stream",
     "text": [
      "(28709, 2304)\n",
      "(28709, 7)\n"
     ]
    }
   ],
   "source": [
    "y_train = df_train['label']\n",
    "y_train = to_categorical(y_train,num_classes=7)\n",
    "\n",
    "x_train = df_train['feature']\n",
    "x_train = x_train.str.split()\n",
    "x_train = x_train.values\n",
    "x_train = [np.array(x,dtype=np.int32) for x in x_train]\n",
    "x_train = np.array(x_train)\n",
    "\n",
    "print(x_train.shape)\n",
    "print(y_train.shape)\n"
   ]
  },
  {
   "cell_type": "code",
   "execution_count": 6,
   "metadata": {},
   "outputs": [
    {
     "name": "stdout",
     "output_type": "stream",
     "text": [
      "(7178, 2304)\n"
     ]
    }
   ],
   "source": [
    "x_test = df_test['feature']\n",
    "x_test = x_test.str.split()\n",
    "x_test = x_test.values\n",
    "x_test = [np.array(x,dtype=np.int32) for x in x_test]\n",
    "x_test = np.array(x_test)\n",
    "\n",
    "print(x_test.shape)"
   ]
  },
  {
   "cell_type": "code",
   "execution_count": 7,
   "metadata": {},
   "outputs": [
    {
     "name": "stdout",
     "output_type": "stream",
     "text": [
      "(28709, 48, 48, 1)\n",
      "(7178, 48, 48, 1)\n"
     ]
    }
   ],
   "source": [
    "x_train = np.reshape(x_train,(28709,48,48,1))\n",
    "print(x_train.shape)\n",
    "x_test = np.reshape(x_test,(7178,48,48,1))\n",
    "print(x_test.shape)"
   ]
  },
  {
   "cell_type": "code",
   "execution_count": 15,
   "metadata": {},
   "outputs": [],
   "source": [
    "np.save('x_train.npy',x_train)\n",
    "np.save('y_train.npy',y_train)\n",
    "np.save('x_test.npy',x_test)"
   ]
  },
  {
   "cell_type": "markdown",
   "metadata": {},
   "source": [
    "## problem1 & problem2"
   ]
  },
  {
   "cell_type": "code",
   "execution_count": 124,
   "metadata": {},
   "outputs": [],
   "source": [
    "num_classes = 7\n",
    "input_shape = (48,48,1)\n",
    "model = Sequential()\n",
    "\n",
    "model.add(Conv2D(64, (3, 3), activation='relu', input_shape=input_shape))\n",
    "model.add(Conv2D(64, (3, 3), activation='relu'))\n",
    "model.add(BatchNormalization())\n",
    "model.add(MaxPooling2D(pool_size=(2, 2)))\n",
    "model.add(Dropout(0.25))\n",
    "\n",
    "model.add(Conv2D(128, (3, 3), activation='relu'))\n",
    "model.add(Conv2D(128, (3, 3), activation='relu'))\n",
    "model.add(BatchNormalization())\n",
    "model.add(MaxPooling2D(pool_size=(2, 2)))\n",
    "model.add(Dropout(0.25))\n",
    "\n",
    "model.add(Conv2D(256, (3, 3), activation='relu'))\n",
    "model.add(Conv2D(256, (3, 3), activation='relu'))\n",
    "model.add(BatchNormalization())\n",
    "model.add(MaxPooling2D(pool_size=(2, 2)))\n",
    "model.add(Dropout(0.25))\n",
    "\n",
    "\n",
    "\n",
    "\n",
    "model.add(Flatten())\n",
    "\n",
    "model.add(Dense(128, activation='relu'))\n",
    "model.add(Dropout(0.5))\n",
    "model.add(Dense(num_classes, activation='softmax'))\n",
    "\n",
    "model.compile(loss='categorical_crossentropy', optimizer='adam', metrics=['accuracy'])"
   ]
  },
  {
   "cell_type": "code",
   "execution_count": 125,
   "metadata": {},
   "outputs": [],
   "source": [
    "\n",
    "# input_shape = (48,48,1)\n",
    "# model = Sequential()\n",
    "\n",
    "# # model.add(BatchNormalization())\n",
    "\n",
    "# model.add(Conv2D(64,input_shape=input_shape, kernel_size=(5, 5), padding='same', kernel_initializer='glorot_normal'))\n",
    "# model.add(LeakyReLU(alpha=1./20))\n",
    "# model.add(BatchNormalization())\n",
    "# model.add(MaxPooling2D(pool_size=(2, 2), padding='same'))\n",
    "# model.add(Dropout(0.25))\n",
    "\n",
    "# model.add(Conv2D(128, kernel_size=(3, 3), padding='same', kernel_initializer='glorot_normal'))\n",
    "# model.add(LeakyReLU(alpha=1./20))\n",
    "# model.add(BatchNormalization())\n",
    "# model.add(MaxPooling2D(pool_size=(2, 2), padding='same'))\n",
    "# model.add(Dropout(0.3))\n",
    "\n",
    "# model.add(Conv2D(512, kernel_size=(3, 3), padding='same', kernel_initializer='glorot_normal'))\n",
    "# model.add(LeakyReLU(alpha=1./20))\n",
    "# model.add(BatchNormalization())\n",
    "# model.add(MaxPooling2D(pool_size=(2, 2), padding='same'))\n",
    "# model.add(Dropout(0.35))\n",
    "\n",
    "# model.add(Conv2D(512, kernel_size=(3, 3), padding='same', kernel_initializer='glorot_normal'))\n",
    "# model.add(LeakyReLU(alpha=1./20))\n",
    "# model.add(BatchNormalization())\n",
    "# model.add(MaxPooling2D(pool_size=(2, 2), padding='same'))\n",
    "# model.add(Dropout(0.35))\n",
    "\n",
    "# model.add(Flatten())\n",
    "\n",
    "# model.add(Dense(512, activation='relu', kernel_initializer='glorot_normal'))\n",
    "# model.add(BatchNormalization())\n",
    "# model.add(Dropout(0.5))\n",
    "# model.add(Dense(512, activation='relu', kernel_initializer='glorot_normal'))\n",
    "# model.add(BatchNormalization())\n",
    "# model.add(Dropout(0.5))\n",
    "# model.add(Dense(7, activation='softmax', kernel_initializer='glorot_normal'))\n",
    "\n",
    "# model.compile(loss='categorical_crossentropy', optimizer='adam', metrics=['accuracy'])"
   ]
  },
  {
   "cell_type": "code",
   "execution_count": 126,
   "metadata": {
    "scrolled": true
   },
   "outputs": [
    {
     "name": "stdout",
     "output_type": "stream",
     "text": [
      "_________________________________________________________________\n",
      "Layer (type)                 Output Shape              Param #   \n",
      "=================================================================\n",
      "conv2d_84 (Conv2D)           (None, 46, 46, 64)        640       \n",
      "_________________________________________________________________\n",
      "conv2d_85 (Conv2D)           (None, 44, 44, 64)        36928     \n",
      "_________________________________________________________________\n",
      "batch_normalization_46 (Batc (None, 44, 44, 64)        256       \n",
      "_________________________________________________________________\n",
      "max_pooling2d_47 (MaxPooling (None, 22, 22, 64)        0         \n",
      "_________________________________________________________________\n",
      "dropout_58 (Dropout)         (None, 22, 22, 64)        0         \n",
      "_________________________________________________________________\n",
      "conv2d_86 (Conv2D)           (None, 20, 20, 128)       73856     \n",
      "_________________________________________________________________\n",
      "conv2d_87 (Conv2D)           (None, 18, 18, 128)       147584    \n",
      "_________________________________________________________________\n",
      "batch_normalization_47 (Batc (None, 18, 18, 128)       512       \n",
      "_________________________________________________________________\n",
      "max_pooling2d_48 (MaxPooling (None, 9, 9, 128)         0         \n",
      "_________________________________________________________________\n",
      "dropout_59 (Dropout)         (None, 9, 9, 128)         0         \n",
      "_________________________________________________________________\n",
      "conv2d_88 (Conv2D)           (None, 7, 7, 256)         295168    \n",
      "_________________________________________________________________\n",
      "conv2d_89 (Conv2D)           (None, 5, 5, 256)         590080    \n",
      "_________________________________________________________________\n",
      "batch_normalization_48 (Batc (None, 5, 5, 256)         1024      \n",
      "_________________________________________________________________\n",
      "max_pooling2d_49 (MaxPooling (None, 2, 2, 256)         0         \n",
      "_________________________________________________________________\n",
      "dropout_60 (Dropout)         (None, 2, 2, 256)         0         \n",
      "_________________________________________________________________\n",
      "flatten_13 (Flatten)         (None, 1024)              0         \n",
      "_________________________________________________________________\n",
      "dense_27 (Dense)             (None, 128)               131200    \n",
      "_________________________________________________________________\n",
      "dropout_61 (Dropout)         (None, 128)               0         \n",
      "_________________________________________________________________\n",
      "dense_28 (Dense)             (None, 7)                 903       \n",
      "=================================================================\n",
      "Total params: 1,278,151\n",
      "Trainable params: 1,277,255\n",
      "Non-trainable params: 896\n",
      "_________________________________________________________________\n"
     ]
    }
   ],
   "source": [
    "model.summary()"
   ]
  },
  {
   "cell_type": "code",
   "execution_count": 127,
   "metadata": {},
   "outputs": [],
   "source": [
    "class History(keras.callbacks.Callback):\n",
    "    def on_train_begin(self,logs={}):\n",
    "        self.tr_losses=[]\n",
    "        self.val_losses=[]\n",
    "        self.tr_accs=[]\n",
    "        self.val_accs=[]\n",
    "\n",
    "    def on_epoch_end(self,epoch,logs={}):\n",
    "        self.tr_losses.append(logs.get('loss'))\n",
    "        self.val_losses.append(logs.get('val_loss'))\n",
    "        self.tr_accs.append(logs.get('acc'))\n",
    "        self.val_accs.append(logs.get('val_acc'))\n",
    "time_callback = History()"
   ]
  },
  {
   "cell_type": "code",
   "execution_count": 128,
   "metadata": {},
   "outputs": [],
   "source": [
    "# training log\n",
    "path =  '/data1/home/feynman52/NTU_ML_HW/hw3/data/log.csv' \n",
    "csv_logger = keras.callbacks.CSVLogger(path)"
   ]
  },
  {
   "cell_type": "code",
   "execution_count": 129,
   "metadata": {},
   "outputs": [],
   "source": [
    "batch_size = 128\n",
    "epochs = 50\n"
   ]
  },
  {
   "cell_type": "code",
   "execution_count": 130,
   "metadata": {
    "scrolled": true
   },
   "outputs": [
    {
     "name": "stdout",
     "output_type": "stream",
     "text": [
      "Epoch 1/50\n",
      "28709/28709 [==============================] - 12s 407us/step - loss: 1.8796 - acc: 0.2666\n",
      "Epoch 2/50\n",
      "28709/28709 [==============================] - 10s 344us/step - loss: 1.6174 - acc: 0.3663\n",
      "Epoch 3/50\n",
      "28709/28709 [==============================] - 10s 344us/step - loss: 1.5111 - acc: 0.4135\n",
      "Epoch 4/50\n",
      "28709/28709 [==============================] - 10s 351us/step - loss: 1.4233 - acc: 0.4506\n",
      "Epoch 5/50\n",
      "28709/28709 [==============================] - 10s 347us/step - loss: 1.3482 - acc: 0.4859\n",
      "Epoch 6/50\n",
      "28709/28709 [==============================] - 10s 347us/step - loss: 1.2930 - acc: 0.5078\n",
      "Epoch 7/50\n",
      "28709/28709 [==============================] - 10s 346us/step - loss: 1.2423 - acc: 0.5322\n",
      "Epoch 8/50\n",
      "28709/28709 [==============================] - 10s 348us/step - loss: 1.2042 - acc: 0.5452\n",
      "Epoch 9/50\n",
      "28709/28709 [==============================] - 10s 346us/step - loss: 1.1590 - acc: 0.5663\n",
      "Epoch 10/50\n",
      "28709/28709 [==============================] - 10s 346us/step - loss: 1.1173 - acc: 0.5787\n",
      "Epoch 11/50\n",
      "28709/28709 [==============================] - 10s 343us/step - loss: 1.0864 - acc: 0.5877\n",
      "Epoch 12/50\n",
      "28709/28709 [==============================] - 10s 346us/step - loss: 1.0485 - acc: 0.6056\n",
      "Epoch 13/50\n",
      "28709/28709 [==============================] - 10s 344us/step - loss: 1.0187 - acc: 0.6173\n",
      "Epoch 14/50\n",
      "28709/28709 [==============================] - 10s 345us/step - loss: 0.9835 - acc: 0.6273\n",
      "Epoch 15/50\n",
      "28709/28709 [==============================] - 10s 342us/step - loss: 0.9365 - acc: 0.6474\n",
      "Epoch 16/50\n",
      "28709/28709 [==============================] - 10s 343us/step - loss: 0.9106 - acc: 0.6584\n",
      "Epoch 17/50\n",
      "28709/28709 [==============================] - 10s 343us/step - loss: 0.8702 - acc: 0.6753\n",
      "Epoch 18/50\n",
      "28709/28709 [==============================] - 10s 341us/step - loss: 0.8341 - acc: 0.6851\n",
      "Epoch 19/50\n",
      "28709/28709 [==============================] - 10s 344us/step - loss: 0.7972 - acc: 0.6986\n",
      "Epoch 20/50\n",
      "28709/28709 [==============================] - 10s 342us/step - loss: 0.4676 - acc: 0.8293\n",
      "Epoch 31/50\n",
      "28709/28709 [==============================] - 10s 343us/step - loss: 0.4429 - acc: 0.8387\n",
      "Epoch 32/50\n",
      "28709/28709 [==============================] - 10s 342us/step - loss: 0.4271 - acc: 0.8458\n",
      "Epoch 33/50\n",
      "28709/28709 [==============================] - 10s 340us/step - loss: 0.4145 - acc: 0.8519\n",
      "Epoch 34/50\n",
      "28709/28709 [==============================] - 10s 343us/step - loss: 0.3914 - acc: 0.8583\n",
      "Epoch 35/50\n",
      "28709/28709 [==============================] - 10s 341us/step - loss: 0.3767 - acc: 0.8638\n",
      "Epoch 36/50\n",
      "28709/28709 [==============================] - 10s 341us/step - loss: 0.3623 - acc: 0.8721\n",
      "Epoch 37/50\n",
      "28709/28709 [==============================] - 10s 340us/step - loss: 0.3452 - acc: 0.8782\n",
      "Epoch 38/50\n",
      "28709/28709 [==============================] - 10s 343us/step - loss: 0.3253 - acc: 0.8840\n",
      "Epoch 39/50\n",
      "28709/28709 [==============================] - 10s 342us/step - loss: 0.3248 - acc: 0.8850\n",
      "Epoch 40/50\n",
      "28709/28709 [==============================] - 10s 341us/step - loss: 0.3035 - acc: 0.8906\n",
      "Epoch 41/50\n",
      "28709/28709 [==============================] - 10s 344us/step - loss: 0.3035 - acc: 0.8939\n",
      "Epoch 42/50\n",
      "28709/28709 [==============================] - 10s 343us/step - loss: 0.2843 - acc: 0.8996\n",
      "Epoch 43/50\n",
      "28709/28709 [==============================] - 10s 341us/step - loss: 0.2717 - acc: 0.9041\n",
      "Epoch 44/50\n",
      "28709/28709 [==============================] - 10s 343us/step - loss: 0.2716 - acc: 0.9036\n",
      "Epoch 45/50\n",
      "28709/28709 [==============================] - 10s 336us/step - loss: 0.2650 - acc: 0.9087\n",
      "Epoch 46/50\n",
      "28709/28709 [==============================] - 10s 345us/step - loss: 0.2556 - acc: 0.9096\n",
      "Epoch 47/50\n",
      "28709/28709 [==============================] - 10s 344us/step - loss: 0.2380 - acc: 0.9178\n",
      "Epoch 48/50\n",
      "28709/28709 [==============================] - 10s 343us/step - loss: 0.2389 - acc: 0.9160\n",
      "Epoch 49/50\n",
      "28709/28709 [==============================] - 10s 339us/step - loss: 0.2503 - acc: 0.9142\n",
      "Epoch 50/50\n",
      "28709/28709 [==============================] - 10s 343us/step - loss: 0.2344 - acc: 0.9205\n"
     ]
    }
   ],
   "source": [
    "history = model.fit(x = x_train,\n",
    "                    y = y_train,\n",
    "                    verbose = 1,\n",
    "                    batch_size=batch_size,\n",
    "                    epochs=epochs,\n",
    "                    callbacks=[csv_logger])"
   ]
  },
  {
   "cell_type": "code",
   "execution_count": 131,
   "metadata": {},
   "outputs": [
    {
     "data": {
      "image/png": "[encoded data removed]",
      "text/plain": [
       "<Figure size 432x288 with 1 Axes>"
      ]
     },
     "metadata": {},
     "output_type": "display_data"
    }
   ],
   "source": [
    "# plot\n",
    "plt.plot(history.history['acc'])\n",
    "# plt.plot(history.history['val_loss'])\n",
    "plt.title('model loss')\n",
    "plt.ylabel('acc')\n",
    "plt.xlabel('epoch')\n",
    "# plt.legend(['train', 'val'], loc='upper right')\n",
    "\n",
    "# fileName = dirName +'_'+ 'loss.png'\n",
    "# path = dirName +'/'+ fileName\n",
    "# plt.savefig(path)\n",
    "\n",
    "plt.show()"
   ]
  },
  {
   "cell_type": "code",
   "execution_count": 132,
   "metadata": {},
   "outputs": [],
   "source": [
    "model.save('my_model.h5')"
   ]
  }
 ],
 "metadata": {
  "kernelspec": {
   "display_name": "Python 3",
   "language": "python",
   "name": "python3"
  },
  "language_info": {
   "codemirror_mode": {
    "name": "ipython",
    "version": 3
   },
   "file_extension": ".py",
   "mimetype": "text/x-python",
   "name": "python",
   "nbconvert_exporter": "python",
   "pygments_lexer": "ipython3",
   "version": "3.6.5"
  }
 },
 "nbformat": 4,
 "nbformat_minor": 2
}
