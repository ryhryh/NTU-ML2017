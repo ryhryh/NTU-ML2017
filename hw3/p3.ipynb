{
 "cells": [
  {
   "cell_type": "code",
   "execution_count": null,
   "metadata": {},
   "outputs": [
    {
     "name": "stderr",
     "output_type": "stream",
     "text": [
      "Using TensorFlow backend.\n"
     ]
    }
   ],
   "source": [
    "import numpy as np\n",
    "import pandas as pd\n",
    "from keras.utils.np_utils import to_categorical\n",
    "from keras.models import Sequential\n",
    "from keras.layers import Input,Dense,Dropout,Flatten,Activation,LeakyReLU\n",
    "from keras.layers import Convolution2D,MaxPooling2D\n",
    "from keras.layers import Conv1D, Conv2D\n",
    "from keras.layers.normalization import BatchNormalization\n",
    "from keras.models import load_model\n",
    "\n",
    "from keras.optimizers import SGD\n",
    "import keras\n",
    "import matplotlib.pylab as plt\n",
    "from sklearn.metrics import confusion_matrix\n"
   ]
  },
  {
   "cell_type": "code",
   "execution_count": null,
   "metadata": {
    "scrolled": true
   },
   "outputs": [],
   "source": [
    "my_model = load_model('my_model.h5')\n",
    "my_model.summary()"
   ]
  },
  {
   "cell_type": "code",
   "execution_count": null,
   "metadata": {},
   "outputs": [],
   "source": [
    "path = '/data1/home/feynman52/NTU_ML_HW/hw3/data/'\n",
    "\n",
    "df_train = pd.read_csv(path+'train.csv')\n",
    "df_test = pd.read_csv(path+'test.csv')\n"
   ]
  },
  {
   "cell_type": "code",
   "execution_count": null,
   "metadata": {},
   "outputs": [],
   "source": [
    "y_train = df_train['label']\n",
    "y_train = y_train.values\n",
    "\n",
    "x_train = df_train['feature']\n",
    "x_train = x_train.str.split()\n",
    "x_train = x_train.values\n",
    "x_train = [np.array(x,dtype=np.int32) for x in x_train]\n",
    "x_train = np.array(x_train)"
   ]
  },
  {
   "cell_type": "code",
   "execution_count": null,
   "metadata": {},
   "outputs": [],
   "source": [
    "x_train = np.reshape(x_train,(28709,48,48,1))\n"
   ]
  },
  {
   "cell_type": "code",
   "execution_count": null,
   "metadata": {},
   "outputs": [],
   "source": [
    "print(x_train.shape)\n",
    "print(y_train.shape)\n",
    "x_val = x_train[0:2000]\n",
    "y_val = y_train[0:2000]\n",
    "print(x_val.shape)\n",
    "print(y_val.shape)"
   ]
  },
  {
   "cell_type": "code",
   "execution_count": null,
   "metadata": {},
   "outputs": [],
   "source": [
    "batch_size = 128\n",
    "\n",
    "y_predict = my_model.predict_classes(x_val, batch_size=batch_size, verbose=1)"
   ]
  },
  {
   "cell_type": "code",
   "execution_count": null,
   "metadata": {},
   "outputs": [],
   "source": [
    "print(y_predict)\n",
    "print(y_val)\n",
    "c = confusion_matrix(y_val, y_predict, labels=[0,1,2,3,4,5,6])\n",
    "print(c)"
   ]
  },
  {
   "cell_type": "code",
   "execution_count": null,
   "metadata": {},
   "outputs": [],
   "source": [
    "classes=[\"Angry\",\"Disgust\",\"Fear\",\"Happy\",\"Sad\",\"Surprise\",\"Neutral\"]\n",
    "tick_num = np.arange(7)"
   ]
  },
  {
   "cell_type": "code",
   "execution_count": null,
   "metadata": {},
   "outputs": [],
   "source": [
    "from sklearn.preprocessing import normalize\n",
    "\n",
    "# test = np.array([[1,2],\n",
    "#                  [5,5]])\n",
    "# test = normalize(test, axis=1, norm='l1')\n",
    "# test\n",
    "\n",
    "c_normalized = normalize(c, axis=1, norm='l1')\n",
    "c_normalized\n",
    "\n",
    "\n"
   ]
  },
  {
   "cell_type": "code",
   "execution_count": null,
   "metadata": {},
   "outputs": [],
   "source": [
    "plt.imshow(c_normalized, interpolation='nearest', cmap=plt.cm.jet, origin='lower')\n",
    "\n",
    "# plt.colorbar(shrink=.80)\n",
    "\n",
    "# thresh = c_normalized.max() / 2.\n",
    "# for i in range(7):\n",
    "#     for j in range(7):\n",
    "#         plt.text(j,i,\n",
    "#                  '%.2f' %c_normalized[i,j],\n",
    "#                  horizontalalignment=\"center\",\n",
    "#                  color=\"white\" if c_normalized[i, j] < thresh else \"black\")\n",
    "\n",
    "# plt.xticks(tick_num,classes,rotation=45)\n",
    "# plt.yticks(tick_num,classes)\n",
    "\n",
    "plt.show()"
   ]
  }
 ],
 "metadata": {
  "kernelspec": {
   "display_name": "Python 3",
   "language": "python",
   "name": "python3"
  },
  "language_info": {
   "codemirror_mode": {
    "name": "ipython",
    "version": 3
   },
   "file_extension": ".py",
   "mimetype": "text/x-python",
   "name": "python",
   "nbconvert_exporter": "python",
   "pygments_lexer": "ipython3",
   "version": "3.6.5"
  }
 },
 "nbformat": 4,
 "nbformat_minor": 2
}
