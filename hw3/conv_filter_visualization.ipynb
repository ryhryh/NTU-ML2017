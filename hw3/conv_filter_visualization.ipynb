{
 "cells": [
  {
   "cell_type": "code",
   "execution_count": null,
   "metadata": {},
   "outputs": [],
   "source": [
    "import tensorflow"
   ]
  },
  {
   "cell_type": "code",
   "execution_count": null,
   "metadata": {
    "scrolled": true
   },
   "outputs": [],
   "source": [
    "import numpy as np\n",
    "import time\n",
    "# from keras.preprocessing.image import save_img\n",
    "from keras.applications import vgg16\n",
    "from keras import backend as K"
   ]
  },
  {
   "cell_type": "code",
   "execution_count": null,
   "metadata": {},
   "outputs": [],
   "source": [
    "# util function to convert a tensor into a valid image\n",
    "def deprocess_image(x):\n",
    "    # normalize tensor: center on 0., ensure std is 0.1\n",
    "    x -= x.mean()\n",
    "    x /= (x.std() + K.epsilon())\n",
    "    x *= 0.1\n",
    "\n",
    "    # clip to [0, 1]\n",
    "    x += 0.5\n",
    "    x = np.clip(x, 0, 1)\n",
    "\n",
    "    # convert to RGB array\n",
    "    x *= 255\n",
    "    x = np.clip(x, 0, 255).astype('uint8')\n",
    "    return x\n",
    "\n",
    "def normalize(x):\n",
    "    # utility function to normalize a tensor by its L2 norm\n",
    "    # [3,4] after normalize => [3/5,4/5]\n",
    "\n",
    "    # K.epsilon()) = 10^-7, prevent from dividing by zero\n",
    "    \n",
    "    return x / ( K.sqrt(K.mean(K.square(x))) + K.epsilon() )\n",
    "\n"
   ]
  },
  {
   "cell_type": "code",
   "execution_count": null,
   "metadata": {},
   "outputs": [],
   "source": [
    "K.image_data_format()"
   ]
  },
  {
   "cell_type": "code",
   "execution_count": null,
   "metadata": {
    "scrolled": true
   },
   "outputs": [],
   "source": [
    "model = vgg16.VGG16(weights='imagenet', include_top=False)\n",
    "model.summary()\n"
   ]
  },
  {
   "cell_type": "code",
   "execution_count": null,
   "metadata": {},
   "outputs": [],
   "source": [
    "filter_index = 0\n",
    "print('Processing filter %d' % filter_index)\n",
    "\n",
    "\n",
    "layer_name = 'block5_conv1'\n",
    "layer_dict = dict([(layer.name, layer) for layer in model.layers[1:]])\n",
    "\n",
    "\n",
    "input_img = model.input\n",
    "layer_output = layer_dict[layer_name].output\n",
    "\n",
    "loss = K.mean(layer_output[:, :, :, filter_index])\n",
    "loss"
   ]
  },
  {
   "cell_type": "code",
   "execution_count": null,
   "metadata": {
    "scrolled": true
   },
   "outputs": [],
   "source": [
    "filter_index = 0\n",
    "print('Processing filter %d' % filter_index)\n",
    "\n",
    "\n",
    "layer_name = 'block5_conv1'\n",
    "layer_dict = dict([(layer.name, layer) for layer in model.layers[1:]])\n",
    "\n",
    "\n",
    "input_img = model.input\n",
    "layer_output = layer_dict[layer_name].output\n",
    "\n",
    "loss = K.mean(layer_output[:, :, :, filter_index])\n",
    "\n",
    "# return a list of gradient tensor\n",
    "grads = K.gradients(loss, [input_img])[0]\n",
    "# grads = K.gradients(loss, input_img)[0]\n",
    "grads = normalize(grads)\n",
    "\n",
    "# function = K.function([input_img], [loss, grads])\n",
    "function = K.function([input_img], [loss,grads,layer_output])\n",
    "\n",
    "\n",
    "lr = 1.\n",
    "img_width = 128\n",
    "img_height = 128\n",
    "\n",
    "\n",
    "# 128 +/- 10, 138 > value > 118\n",
    "input_img_data = np.random.random((1, img_width, img_height, 3))\n",
    "input_img_data = (input_img_data - 0.5) * 20 + 128\n",
    "\n",
    "# we run gradient ascent for 20 steps\n",
    "for i in range(100):\n",
    "    \n",
    "    print(' -------------------------------- %s --------------------------------' %i)\n",
    "    \n",
    "    loss_value, grads_value, layer_output = function([input_img_data])\n",
    "#     loss_value, grads_value = function([input_img_data])\n",
    "\n",
    "    print(grads_value.shape)\n",
    "    print('input_img_data.shape',input_img_data.shape)\n",
    "    print('layer_output.shape',layer_output.shape)\n",
    "    print('type(layer_output)',type(layer_output),np.mean(layer_output[:, :, :, filter_index]))\n",
    "    print('input_img_data[0,0,0:2]',input_img_data[0,0,0:2])\n",
    "    print('grads_value[0,0,0:2]',grads_value[0,0,0:2])\n",
    "    \n",
    "    input_img_data = input_img_data + grads_value * lr\n",
    "    \n",
    "    print('_____after gradient acsent_____')\n",
    "    print('input_img_data',input_img_data[0,0,0:2])\n",
    "    \n",
    "\n",
    "    print('Current loss value:', loss_value)\n",
    "    \n",
    "    if loss_value <= 0.:\n",
    "        # some filters get stuck to 0, we can skip them\n",
    "        break\n",
    "        \n",
    "\n"
   ]
  },
  {
   "cell_type": "code",
   "execution_count": null,
   "metadata": {},
   "outputs": [],
   "source": [
    "import matplotlib.pyplot as plt\n",
    "\n",
    "img = deprocess_image(input_img_data[0])\n",
    "\n",
    "\n",
    "plt.figure(figsize=(4, 20))\n",
    "ax = plt.subplot(1, 1, 1)\n",
    "\n",
    "plt.imshow(img)\n",
    "\n",
    "ax.get_xaxis().set_visible(False)\n",
    "ax.get_yaxis().set_visible(False)\n",
    "\n",
    "plt.show()"
   ]
  },
  {
   "cell_type": "code",
   "execution_count": null,
   "metadata": {},
   "outputs": [],
   "source": []
  },
  {
   "cell_type": "code",
   "execution_count": null,
   "metadata": {},
   "outputs": [],
   "source": []
  },
  {
   "cell_type": "code",
   "execution_count": null,
   "metadata": {},
   "outputs": [],
   "source": []
  },
  {
   "cell_type": "code",
   "execution_count": null,
   "metadata": {},
   "outputs": [],
   "source": []
  },
  {
   "cell_type": "code",
   "execution_count": null,
   "metadata": {},
   "outputs": [],
   "source": []
  },
  {
   "cell_type": "code",
   "execution_count": null,
   "metadata": {},
   "outputs": [],
   "source": []
  },
  {
   "cell_type": "code",
   "execution_count": null,
   "metadata": {},
   "outputs": [],
   "source": []
  }
 ],
 "metadata": {
  "kernelspec": {
   "display_name": "Python 3",
   "language": "python",
   "name": "python3"
  },
  "language_info": {
   "codemirror_mode": {
    "name": "ipython",
    "version": 3
   },
   "file_extension": ".py",
   "mimetype": "text/x-python",
   "name": "python",
   "nbconvert_exporter": "python",
   "pygments_lexer": "ipython3",
   "version": "3.6.5"
  }
 },
 "nbformat": 4,
 "nbformat_minor": 2
}
